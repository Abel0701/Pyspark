{
 "cells": [
  {
   "cell_type": "code",
   "execution_count": 0,
   "metadata": {
    "application/vnd.databricks.v1+cell": {
     "cellMetadata": {
      "byteLimit": 2048000,
      "rowLimit": 10000
     },
     "inputWidgets": {},
     "nuid": "6f1f3589-a30b-4d9d-881f-d44c3ba95c2f",
     "showTitle": false,
     "title": ""
    }
   },
   "outputs": [],
   "source": [
    "from pyspark.sql.functions import *\n",
    "from pyspark.sql import functions as F"
   ]
  },
  {
   "cell_type": "code",
   "execution_count": 0,
   "metadata": {
    "application/vnd.databricks.v1+cell": {
     "cellMetadata": {
      "byteLimit": 2048000,
      "rowLimit": 10000
     },
     "inputWidgets": {},
     "nuid": "d501efc0-f694-40fd-9207-bdbd3297ed11",
     "showTitle": false,
     "title": ""
    }
   },
   "outputs": [
    {
     "output_type": "stream",
     "name": "stdout",
     "output_type": "stream",
     "text": [
      "Out[21]: '\\ndbfs:/FileStore/shared_uploads/arraz7191@gmail.com/female_coaches.csv\\ndbfs:/FileStore/shared_uploads/arraz7191@gmail.com/male_teams.csv\\ndbfs:/FileStore/shared_uploads/arraz7191@gmail.com/female_teams.csv\\ndbfs:/FileStore/shared_uploads/arraz7191@gmail.com/male_coaches.csv\\ndbfs:/FileStore/shared_uploads/arraz7191@gmail.com/female_players.csv\\ndbfs:/FileStore/shared_uploads/arraz7191@gmail.com/male_players.csv\\n'"
     ]
    }
   ],
   "source": [
    "female_coaches = spark.read.format(\"csv\")\\\n",
    "    .option(\"inferschema\", \"true\")\\\n",
    "    .option(\"header\", \"true\")\\\n",
    "    .load(\"/FileStore/shared_uploads/arraz7191@gmail.com/female_coaches.csv\")\n",
    "\n",
    "male_teams = spark.read.format(\"csv\")\\\n",
    "    .option(\"inferschema\", \"true\")\\\n",
    "    .option(\"header\", \"true\")\\\n",
    "    .load(\"/FileStore/shared_uploads/arraz7191@gmail.com/male_teams.csv\")\n",
    "\n",
    "female_teams = spark.read.format(\"csv\")\\\n",
    "    .option(\"inferschema\", \"true\")\\\n",
    "    .option(\"header\", \"true\")\\\n",
    "    .load(\"/FileStore/shared_uploads/arraz7191@gmail.com/female_teams.csv\")\n",
    "\n",
    "male_coaches = spark.read.format(\"csv\")\\\n",
    "    .option(\"inferschema\", \"true\")\\\n",
    "    .option(\"header\", \"true\")\\\n",
    "    .load(\"/FileStore/shared_uploads/arraz7191@gmail.com/male_coaches.csv\")\n",
    "\n",
    "female_players = spark.read.format(\"csv\")\\\n",
    "    .option(\"inferschema\", \"true\")\\\n",
    "    .option(\"header\", \"true\")\\\n",
    "    .load(\"/FileStore/shared_uploads/arraz7191@gmail.com/female_players.csv\")\n",
    "\n",
    "male_players = spark.read.format(\"csv\")\\\n",
    "    .option(\"inferschema\", \"true\")\\\n",
    "    .option(\"header\", \"true\")\\\n",
    "    .load(\"/FileStore/shared_uploads/arraz7191@gmail.com/male_players.csv\")\n",
    "\n",
    "\"\"\"\n",
    "dbfs:/FileStore/shared_uploads/arraz7191@gmail.com/female_coaches.csv\n",
    "dbfs:/FileStore/shared_uploads/arraz7191@gmail.com/male_teams.csv\n",
    "dbfs:/FileStore/shared_uploads/arraz7191@gmail.com/female_teams.csv\n",
    "dbfs:/FileStore/shared_uploads/arraz7191@gmail.com/male_coaches.csv\n",
    "dbfs:/FileStore/shared_uploads/arraz7191@gmail.com/female_players.csv\n",
    "dbfs:/FileStore/shared_uploads/arraz7191@gmail.com/male_players.csv\n",
    "\"\"\""
   ]
  },
  {
   "cell_type": "code",
   "execution_count": 0,
   "metadata": {
    "application/vnd.databricks.v1+cell": {
     "cellMetadata": {
      "byteLimit": 2048000,
      "rowLimit": 10000
     },
     "inputWidgets": {},
     "nuid": "4b1770c6-fd5d-4b6a-8c0c-617f67c5c4de",
     "showTitle": false,
     "title": ""
    }
   },
   "outputs": [
    {
     "output_type": "stream",
     "name": "stdout",
     "output_type": "stream",
     "text": [
      "female_coaches\nroot\n |-- coach_id: integer (nullable = true)\n |-- coach_url: string (nullable = true)\n |-- short_name: string (nullable = true)\n |-- long_name: string (nullable = true)\n |-- dob: date (nullable = true)\n |-- nationality_name: string (nullable = true)\n |-- coach_face_url: string (nullable = true)\n |-- nation_flag_url: string (nullable = true)\n\n--------------------------\nmale_teams\nroot\n |-- team_id: integer (nullable = true)\n |-- team_url: string (nullable = true)\n |-- fifa_version: integer (nullable = true)\n |-- fifa_update: integer (nullable = true)\n |-- update_as_of: date (nullable = true)\n |-- team_name: string (nullable = true)\n |-- league_id: integer (nullable = true)\n |-- league_name: string (nullable = true)\n |-- league_level: integer (nullable = true)\n |-- nationality_id: integer (nullable = true)\n |-- nationality_name: string (nullable = true)\n |-- overall: integer (nullable = true)\n |-- attack: integer (nullable = true)\n |-- midfield: integer (nullable = true)\n |-- defence: integer (nullable = true)\n |-- coach_id: integer (nullable = true)\n |-- home_stadium: string (nullable = true)\n |-- rival_team: integer (nullable = true)\n |-- international_prestige: integer (nullable = true)\n |-- domestic_prestige: double (nullable = true)\n |-- transfer_budget_eur: double (nullable = true)\n |-- club_worth_eur: double (nullable = true)\n |-- starting_xi_average_age: double (nullable = true)\n |-- whole_team_average_age: double (nullable = true)\n |-- captain: double (nullable = true)\n |-- short_free_kick: double (nullable = true)\n |-- long_free_kick: double (nullable = true)\n |-- left_short_free_kick: double (nullable = true)\n |-- right_short_free_kick: double (nullable = true)\n |-- penalties: double (nullable = true)\n |-- left_corner: double (nullable = true)\n |-- right_corner: double (nullable = true)\n |-- def_style: string (nullable = true)\n |-- def_team_width: integer (nullable = true)\n |-- def_team_depth: integer (nullable = true)\n |-- def_defence_pressure: integer (nullable = true)\n |-- def_defence_aggression: integer (nullable = true)\n |-- def_defence_width: integer (nullable = true)\n |-- def_defence_defender_line: string (nullable = true)\n |-- off_style: string (nullable = true)\n |-- off_build_up_play: string (nullable = true)\n |-- off_chance_creation: string (nullable = true)\n |-- off_team_width: integer (nullable = true)\n |-- off_players_in_box: integer (nullable = true)\n |-- off_corners: integer (nullable = true)\n |-- off_free_kicks: integer (nullable = true)\n |-- build_up_play_speed: integer (nullable = true)\n |-- build_up_play_dribbling: integer (nullable = true)\n |-- build_up_play_passing: integer (nullable = true)\n |-- build_up_play_positioning: string (nullable = true)\n |-- chance_creation_passing: integer (nullable = true)\n |-- chance_creation_crossing: integer (nullable = true)\n |-- chance_creation_shooting: integer (nullable = true)\n |-- chance_creation_positioning: string (nullable = true)\n\n--------------------------\nfemale_teams\nroot\n |-- team_id: integer (nullable = true)\n |-- team_url: string (nullable = true)\n |-- fifa_version: integer (nullable = true)\n |-- fifa_update: integer (nullable = true)\n |-- update_as_of: date (nullable = true)\n |-- team_name: string (nullable = true)\n |-- league_id: integer (nullable = true)\n |-- league_name: string (nullable = true)\n |-- league_level: integer (nullable = true)\n |-- nationality_id: integer (nullable = true)\n |-- nationality_name: string (nullable = true)\n |-- overall: integer (nullable = true)\n |-- attack: integer (nullable = true)\n |-- midfield: integer (nullable = true)\n |-- defence: integer (nullable = true)\n |-- coach_id: integer (nullable = true)\n |-- home_stadium: string (nullable = true)\n |-- rival_team: integer (nullable = true)\n |-- international_prestige: integer (nullable = true)\n |-- domestic_prestige: double (nullable = true)\n |-- transfer_budget_eur: double (nullable = true)\n |-- club_worth_eur: double (nullable = true)\n |-- starting_xi_average_age: double (nullable = true)\n |-- whole_team_average_age: double (nullable = true)\n |-- captain: integer (nullable = true)\n |-- short_free_kick: double (nullable = true)\n |-- long_free_kick: double (nullable = true)\n |-- left_short_free_kick: double (nullable = true)\n |-- right_short_free_kick: double (nullable = true)\n |-- penalties: integer (nullable = true)\n |-- left_corner: integer (nullable = true)\n |-- right_corner: double (nullable = true)\n |-- def_style: string (nullable = true)\n |-- def_team_width: integer (nullable = true)\n |-- def_team_depth: integer (nullable = true)\n |-- def_defence_pressure: integer (nullable = true)\n |-- def_defence_aggression: integer (nullable = true)\n |-- def_defence_width: integer (nullable = true)\n |-- def_defence_defender_line: string (nullable = true)\n |-- off_style: string (nullable = true)\n |-- off_build_up_play: string (nullable = true)\n |-- off_chance_creation: string (nullable = true)\n |-- off_team_width: integer (nullable = true)\n |-- off_players_in_box: integer (nullable = true)\n |-- off_corners: integer (nullable = true)\n |-- off_free_kicks: integer (nullable = true)\n |-- build_up_play_speed: integer (nullable = true)\n |-- build_up_play_dribbling: integer (nullable = true)\n |-- build_up_play_passing: integer (nullable = true)\n |-- build_up_play_positioning: string (nullable = true)\n |-- chance_creation_passing: integer (nullable = true)\n |-- chance_creation_crossing: integer (nullable = true)\n |-- chance_creation_shooting: integer (nullable = true)\n |-- chance_creation_positioning: string (nullable = true)\n\n--------------------------\nmale_coaches\nroot\n |-- coach_id: integer (nullable = true)\n |-- coach_url: string (nullable = true)\n |-- short_name: string (nullable = true)\n |-- long_name: string (nullable = true)\n |-- dob: date (nullable = true)\n |-- nationality_name: string (nullable = true)\n |-- coach_face_url: string (nullable = true)\n |-- nation_flag_url: string (nullable = true)\n\n--------------------------\nfemale_players\nroot\n |-- player_id: integer (nullable = true)\n |-- player_url: string (nullable = true)\n |-- fifa_version: double (nullable = true)\n |-- fifa_update: double (nullable = true)\n |-- update_as_of: date (nullable = true)\n |-- short_name: string (nullable = true)\n |-- long_name: string (nullable = true)\n |-- player_positions: string (nullable = true)\n |-- overall: integer (nullable = true)\n |-- potential: integer (nullable = true)\n |-- value_eur: double (nullable = true)\n |-- wage_eur: double (nullable = true)\n |-- age: integer (nullable = true)\n |-- dob: date (nullable = true)\n |-- height_cm: integer (nullable = true)\n |-- weight_kg: integer (nullable = true)\n |-- club_team_id: integer (nullable = true)\n |-- club_name: string (nullable = true)\n |-- league_id: double (nullable = true)\n |-- league_name: string (nullable = true)\n |-- league_level: integer (nullable = true)\n |-- club_position: string (nullable = true)\n |-- club_jersey_number: integer (nullable = true)\n |-- club_loaned_from: string (nullable = true)\n |-- club_joined_date: date (nullable = true)\n |-- club_contract_valid_until_year: integer (nullable = true)\n |-- nationality_id: integer (nullable = true)\n |-- nationality_name: string (nullable = true)\n |-- nation_team_id: integer (nullable = true)\n |-- nation_position: string (nullable = true)\n |-- nation_jersey_number: integer (nullable = true)\n |-- preferred_foot: string (nullable = true)\n |-- weak_foot: integer (nullable = true)\n |-- skill_moves: integer (nullable = true)\n |-- international_reputation: integer (nullable = true)\n |-- work_rate: string (nullable = true)\n |-- body_type: string (nullable = true)\n |-- real_face: string (nullable = true)\n |-- release_clause_eur: integer (nullable = true)\n |-- player_tags: string (nullable = true)\n |-- player_traits: string (nullable = true)\n |-- pace: integer (nullable = true)\n |-- shooting: integer (nullable = true)\n |-- passing: integer (nullable = true)\n |-- dribbling: integer (nullable = true)\n |-- defending: integer (nullable = true)\n |-- physic: integer (nullable = true)\n |-- attacking_crossing: integer (nullable = true)\n |-- attacking_finishing: integer (nullable = true)\n |-- attacking_heading_accuracy: integer (nullable = true)\n |-- attacking_short_passing: integer (nullable = true)\n |-- attacking_volleys: integer (nullable = true)\n |-- skill_dribbling: integer (nullable = true)\n |-- skill_curve: integer (nullable = true)\n |-- skill_fk_accuracy: integer (nullable = true)\n |-- skill_long_passing: integer (nullable = true)\n |-- skill_ball_control: integer (nullable = true)\n |-- movement_acceleration: integer (nullable = true)\n |-- movement_sprint_speed: integer (nullable = true)\n |-- movement_agility: integer (nullable = true)\n |-- movement_reactions: integer (nullable = true)\n |-- movement_balance: integer (nullable = true)\n |-- power_shot_power: integer (nullable = true)\n |-- power_jumping: integer (nullable = true)\n |-- power_stamina: integer (nullable = true)\n |-- power_strength: integer (nullable = true)\n |-- power_long_shots: integer (nullable = true)\n |-- mentality_aggression: integer (nullable = true)\n |-- mentality_interceptions: integer (nullable = true)\n |-- mentality_positioning: integer (nullable = true)\n |-- mentality_vision: integer (nullable = true)\n |-- mentality_penalties: integer (nullable = true)\n |-- mentality_composure: integer (nullable = true)\n |-- defending_marking_awareness: integer (nullable = true)\n |-- defending_standing_tackle: integer (nullable = true)\n |-- defending_sliding_tackle: integer (nullable = true)\n |-- goalkeeping_diving: integer (nullable = true)\n |-- goalkeeping_handling: integer (nullable = true)\n |-- goalkeeping_kicking: integer (nullable = true)\n |-- goalkeeping_positioning: integer (nullable = true)\n |-- goalkeeping_reflexes: integer (nullable = true)\n |-- goalkeeping_speed: integer (nullable = true)\n |-- ls: string (nullable = true)\n |-- st: string (nullable = true)\n |-- rs: string (nullable = true)\n |-- lw: string (nullable = true)\n |-- lf: string (nullable = true)\n |-- cf: string (nullable = true)\n |-- rf: string (nullable = true)\n |-- rw: string (nullable = true)\n |-- lam: string (nullable = true)\n |-- cam: string (nullable = true)\n |-- ram: string (nullable = true)\n |-- lm: string (nullable = true)\n |-- lcm: string (nullable = true)\n |-- cm: string (nullable = true)\n |-- rcm: string (nullable = true)\n |-- rm: string (nullable = true)\n |-- lwb: string (nullable = true)\n |-- ldm: string (nullable = true)\n |-- cdm: string (nullable = true)\n |-- rdm: string (nullable = true)\n |-- rwb: string (nullable = true)\n |-- lb: string (nullable = true)\n |-- lcb: string (nullable = true)\n |-- cb: string (nullable = true)\n |-- rcb: string (nullable = true)\n |-- rb: string (nullable = true)\n |-- gk: string (nullable = true)\n\n--------------------------\nmale_players\nroot\n |-- player_id: integer (nullable = true)\n |-- player_url: string (nullable = true)\n |-- fifa_version: double (nullable = true)\n |-- fifa_update: double (nullable = true)\n |-- update_as_of: date (nullable = true)\n |-- short_name: string (nullable = true)\n |-- long_name: string (nullable = true)\n |-- player_positions: string (nullable = true)\n |-- overall: integer (nullable = true)\n |-- potential: integer (nullable = true)\n |-- value_eur: double (nullable = true)\n |-- wage_eur: double (nullable = true)\n |-- age: integer (nullable = true)\n |-- dob: date (nullable = true)\n |-- height_cm: integer (nullable = true)\n |-- weight_kg: integer (nullable = true)\n |-- club_team_id: integer (nullable = true)\n |-- club_name: string (nullable = true)\n |-- league_id: double (nullable = true)\n |-- league_name: string (nullable = true)\n |-- league_level: integer (nullable = true)\n |-- club_position: string (nullable = true)\n |-- club_jersey_number: integer (nullable = true)\n |-- club_loaned_from: string (nullable = true)\n |-- club_joined_date: date (nullable = true)\n |-- club_contract_valid_until_year: integer (nullable = true)\n |-- nationality_id: integer (nullable = true)\n |-- nationality_name: string (nullable = true)\n |-- nation_team_id: integer (nullable = true)\n |-- nation_position: string (nullable = true)\n |-- nation_jersey_number: integer (nullable = true)\n |-- preferred_foot: string (nullable = true)\n |-- weak_foot: integer (nullable = true)\n |-- skill_moves: integer (nullable = true)\n |-- international_reputation: integer (nullable = true)\n |-- work_rate: string (nullable = true)\n |-- body_type: string (nullable = true)\n |-- real_face: string (nullable = true)\n |-- release_clause_eur: integer (nullable = true)\n |-- player_tags: string (nullable = true)\n |-- player_traits: string (nullable = true)\n |-- pace: integer (nullable = true)\n |-- shooting: integer (nullable = true)\n |-- passing: integer (nullable = true)\n |-- dribbling: integer (nullable = true)\n |-- defending: integer (nullable = true)\n |-- physic: integer (nullable = true)\n |-- attacking_crossing: integer (nullable = true)\n |-- attacking_finishing: integer (nullable = true)\n |-- attacking_heading_accuracy: integer (nullable = true)\n |-- attacking_short_passing: integer (nullable = true)\n |-- attacking_volleys: integer (nullable = true)\n |-- skill_dribbling: integer (nullable = true)\n |-- skill_curve: integer (nullable = true)\n |-- skill_fk_accuracy: integer (nullable = true)\n |-- skill_long_passing: integer (nullable = true)\n |-- skill_ball_control: integer (nullable = true)\n |-- movement_acceleration: integer (nullable = true)\n |-- movement_sprint_speed: integer (nullable = true)\n |-- movement_agility: integer (nullable = true)\n |-- movement_reactions: integer (nullable = true)\n |-- movement_balance: integer (nullable = true)\n |-- power_shot_power: integer (nullable = true)\n |-- power_jumping: integer (nullable = true)\n |-- power_stamina: integer (nullable = true)\n |-- power_strength: integer (nullable = true)\n |-- power_long_shots: integer (nullable = true)\n |-- mentality_aggression: integer (nullable = true)\n |-- mentality_interceptions: integer (nullable = true)\n |-- mentality_positioning: integer (nullable = true)\n |-- mentality_vision: integer (nullable = true)\n |-- mentality_penalties: integer (nullable = true)\n |-- mentality_composure: integer (nullable = true)\n |-- defending_marking_awareness: integer (nullable = true)\n |-- defending_standing_tackle: integer (nullable = true)\n |-- defending_sliding_tackle: integer (nullable = true)\n |-- goalkeeping_diving: integer (nullable = true)\n |-- goalkeeping_handling: integer (nullable = true)\n |-- goalkeeping_kicking: integer (nullable = true)\n |-- goalkeeping_positioning: integer (nullable = true)\n |-- goalkeeping_reflexes: integer (nullable = true)\n |-- goalkeeping_speed: integer (nullable = true)\n |-- ls: string (nullable = true)\n |-- st: string (nullable = true)\n |-- rs: string (nullable = true)\n |-- lw: string (nullable = true)\n |-- lf: string (nullable = true)\n |-- cf: string (nullable = true)\n |-- rf: string (nullable = true)\n |-- rw: string (nullable = true)\n |-- lam: string (nullable = true)\n |-- cam: string (nullable = true)\n |-- ram: string (nullable = true)\n |-- lm: string (nullable = true)\n |-- lcm: string (nullable = true)\n |-- cm: string (nullable = true)\n |-- rcm: string (nullable = true)\n |-- rm: string (nullable = true)\n |-- lwb: string (nullable = true)\n |-- ldm: string (nullable = true)\n |-- cdm: string (nullable = true)\n |-- rdm: string (nullable = true)\n |-- rwb: string (nullable = true)\n |-- lb: string (nullable = true)\n |-- lcb: string (nullable = true)\n |-- cb: string (nullable = true)\n |-- rcb: string (nullable = true)\n |-- rb: string (nullable = true)\n |-- gk: string (nullable = true)\n\n"
     ]
    }
   ],
   "source": [
    "print(\"female_coaches\")\n",
    "female_coaches.printSchema()\n",
    "print(\"--------------------------\")\n",
    "print(\"male_teams\")\n",
    "male_teams.printSchema()\n",
    "print(\"--------------------------\")\n",
    "print(\"female_teams\")\n",
    "female_teams.printSchema()\n",
    "print(\"--------------------------\")\n",
    "print(\"male_coaches\")\n",
    "male_coaches.printSchema()\n",
    "print(\"--------------------------\")\n",
    "print(\"female_players\")\n",
    "female_players.printSchema()\n",
    "print(\"--------------------------\")\n",
    "print(\"male_players\")\n",
    "male_players.printSchema()"
   ]
  },
  {
   "cell_type": "markdown",
   "metadata": {
    "application/vnd.databricks.v1+cell": {
     "cellMetadata": {
      "byteLimit": 2048000,
      "rowLimit": 10000
     },
     "inputWidgets": {},
     "nuid": "6f32b7a8-afe7-462c-be55-c4d16face800",
     "showTitle": false,
     "title": ""
    }
   },
   "source": [
    "###Filtramos por equipos masculinos que tengan un puntaje general (overall) superior a cierto valor"
   ]
  },
  {
   "cell_type": "code",
   "execution_count": 0,
   "metadata": {
    "application/vnd.databricks.v1+cell": {
     "cellMetadata": {
      "byteLimit": 2048000,
      "rowLimit": 10000
     },
     "inputWidgets": {},
     "nuid": "fb4593a7-e230-4e33-83d2-a441f79256e8",
     "showTitle": false,
     "title": ""
    }
   },
   "outputs": [],
   "source": [
    "def overall_team_function(n):\n",
    "    male_teams.filter(col(\"overall\") >= n)\n",
    "    male_teams.select(\"team_name\", \"overall\").groupBy(\"team_name\").agg(\n",
    "        F.avg(\"overall\").alias(\"average_overall\")\n",
    "    ).orderBy(F.desc(\"average_overall\")).show(truncate = False)"
   ]
  },
  {
   "cell_type": "code",
   "execution_count": 0,
   "metadata": {
    "application/vnd.databricks.v1+cell": {
     "cellMetadata": {
      "byteLimit": 2048000,
      "rowLimit": 10000
     },
     "inputWidgets": {},
     "nuid": "0a96e1a6-ef5e-4695-b295-4c440023e9f3",
     "showTitle": false,
     "title": ""
    }
   },
   "outputs": [
    {
     "output_type": "stream",
     "name": "stdout",
     "output_type": "stream",
     "text": [
      "+-------------------+-----------------+\n|team_name          |average_overall  |\n+-------------------+-----------------+\n|Real Madrid        |85.1             |\n|FC Bayern München  |84.8             |\n|Germany            |84.5             |\n|FC Barcelona       |84.5             |\n|Spain              |84.4             |\n|Manchester City    |84.2             |\n|France             |83.8             |\n|Paris Saint Germain|83.6             |\n|Juventus           |83.1             |\n|Argentina          |82.7             |\n|Belgium            |82.7             |\n|Atlético Madrid    |82.7             |\n|Chelsea            |82.5             |\n|England            |82.5             |\n|Portugal           |82.5             |\n|Italy              |82.4             |\n|Manchester United  |82.3             |\n|Brazil             |81.66666666666667|\n|Inter              |81.3             |\n|Borussia Dortmund  |81.3             |\n+-------------------+-----------------+\nonly showing top 20 rows\n\n"
     ]
    }
   ],
   "source": [
    "overall_team_function(80)"
   ]
  },
  {
   "cell_type": "markdown",
   "metadata": {
    "application/vnd.databricks.v1+cell": {
     "cellMetadata": {
      "byteLimit": 2048000,
      "rowLimit": 10000
     },
     "inputWidgets": {},
     "nuid": "40a1930c-aa55-4272-8c3b-1a8e879165f6",
     "showTitle": false,
     "title": ""
    }
   },
   "source": [
    "###Equipo maculino y femenino con mayor valor de transferencia"
   ]
  },
  {
   "cell_type": "code",
   "execution_count": 0,
   "metadata": {
    "application/vnd.databricks.v1+cell": {
     "cellMetadata": {
      "byteLimit": 2048000,
      "rowLimit": 10000
     },
     "inputWidgets": {},
     "nuid": "9ec51e38-3859-4b50-a217-d250d5cf720e",
     "showTitle": false,
     "title": ""
    }
   },
   "outputs": [
    {
     "output_type": "stream",
     "name": "stdout",
     "output_type": "stream",
     "text": [
      "+-------------------+--------+\n|team_name          |transfer|\n+-------------------+--------+\n|Paris Saint Germain|1.909E8 |\n|Real Madrid        |1.885E8 |\n|FC Barcelona       |1.879E8 |\n|Manchester United  |1.77E8  |\n|Manchester City    |1.76E8  |\n|Derby County       |1.2E8   |\n|Juventus           |1.05E8  |\n|Liverpool          |1.03E8  |\n|FC Bayern München  |1.0E8   |\n|Inter              |9.95E7  |\n|Chelsea            |9.92E7  |\n|Arsenal            |9.25E7  |\n|Tottenham Hotspur  |8.5E7   |\n|Monaco             |7.5E7   |\n|Everton            |7.5E7   |\n|West Ham United    |7.4E7   |\n|Valencia           |7.0E7   |\n|Atlético Madrid    |6.86E7  |\n|Beijing Guoan      |6.21E7  |\n|Hertha BSC         |6.0E7   |\n+-------------------+--------+\nonly showing top 20 rows\n\n+--------------------+--------+\n|team_name           |transfer|\n+--------------------+--------+\n|Belgium W           |0.0     |\n|Portugal W          |0.0     |\n|Real Madrid W       |null    |\n|Dijon W             |null    |\n|United States W     |null    |\n|Levante Las Planas W|null    |\n|Tottenham W         |null    |\n|Liverpool W         |null    |\n|Racing Louisville W |null    |\n|Real Sociedad W     |null    |\n|Freiburg W          |null    |\n|Norway W            |null    |\n|Houston Dash W      |null    |\n|Lille W             |null    |\n|Brazil W            |null    |\n|Paris W             |null    |\n|Le Havre W          |null    |\n|Bristol City W      |null    |\n|Leicester City W    |null    |\n|Athletic Bilbao W   |null    |\n+--------------------+--------+\nonly showing top 20 rows\n\n"
     ]
    }
   ],
   "source": [
    "male_teams.select(\"team_name\", \"transfer_budget_eur\").groupBy(\"team_name\").agg(\n",
    "    max(col(\"transfer_budget_eur\")).alias(\"transfer\")\n",
    ").orderBy(col(\"transfer\").desc()).show(truncate = False)\n",
    "\n",
    "female_teams.select(\"team_name\", \"transfer_budget_eur\").groupBy(\"team_name\").agg(\n",
    "    max(col(\"transfer_budget_eur\")).alias(\"transfer\")\n",
    ").orderBy(col(\"transfer\").desc()).show(truncate = False)"
   ]
  },
  {
   "cell_type": "markdown",
   "metadata": {
    "application/vnd.databricks.v1+cell": {
     "cellMetadata": {
      "byteLimit": 2048000,
      "rowLimit": 10000
     },
     "inputWidgets": {},
     "nuid": "a97af0be-fbf0-49e2-9347-9a6ba573d14a",
     "showTitle": false,
     "title": ""
    }
   },
   "source": [
    "##Promedio de edad de todos los jugadores masculinos y femeninos"
   ]
  },
  {
   "cell_type": "code",
   "execution_count": 0,
   "metadata": {
    "application/vnd.databricks.v1+cell": {
     "cellMetadata": {
      "byteLimit": 2048000,
      "rowLimit": 10000
     },
     "inputWidgets": {},
     "nuid": "ccf91029-ed49-4631-bec2-ad4873472305",
     "showTitle": false,
     "title": ""
    }
   },
   "outputs": [
    {
     "output_type": "stream",
     "name": "stdout",
     "output_type": "stream",
     "text": [
      "+-----------------------------------+\n|avg(age AS Promedio_edad_masculino)|\n+-----------------------------------+\n|                 25.138689375128457|\n+-----------------------------------+\n\n+----------------------------------+\n|avg(age AS Promedio_edad_femenino)|\n+----------------------------------+\n|                25.652432969215493|\n+----------------------------------+\n\n"
     ]
    }
   ],
   "source": [
    "male_players.select(\n",
    "    avg(col(\"age\").alias(\"Promedio_edad_masculino\"))\n",
    ").show()\n",
    "\n",
    "female_players.select(\n",
    "    avg(col(\"age\").alias(\"Promedio_edad_femenino\"))\n",
    ").show()"
   ]
  },
  {
   "cell_type": "markdown",
   "metadata": {
    "application/vnd.databricks.v1+cell": {
     "cellMetadata": {
      "byteLimit": 2048000,
      "rowLimit": 10000
     },
     "inputWidgets": {},
     "nuid": "7fc13c14-769e-40bf-916c-0193ca050650",
     "showTitle": false,
     "title": ""
    }
   },
   "source": [
    "##Entrenador masculino con la nacionalidad más común"
   ]
  },
  {
   "cell_type": "code",
   "execution_count": 0,
   "metadata": {
    "application/vnd.databricks.v1+cell": {
     "cellMetadata": {
      "byteLimit": 2048000,
      "rowLimit": 10000
     },
     "inputWidgets": {},
     "nuid": "23d97650-8f67-4311-b4d6-d6d96301739f",
     "showTitle": false,
     "title": ""
    }
   },
   "outputs": [
    {
     "output_type": "stream",
     "name": "stdout",
     "output_type": "stream",
     "text": [
      "+-------------------+-----+\n|   nationality_name|count|\n+-------------------+-----+\n|              Spain|  119|\n|          Argentina|  102|\n|            Germany|   99|\n|            England|   99|\n|              Italy|   82|\n|             France|   62|\n|           Portugal|   52|\n|             Brazil|   42|\n|        Netherlands|   42|\n|             Turkey|   41|\n|            Romania|   35|\n|             Sweden|   32|\n|             Poland|   32|\n|Republic of Ireland|   31|\n|           Scotland|   30|\n|             Norway|   29|\n|      United States|   26|\n|            Uruguay|   26|\n|            Denmark|   25|\n|            Austria|   25|\n+-------------------+-----+\nonly showing top 20 rows\n\n"
     ]
    }
   ],
   "source": [
    "male_coaches.select(\"nationality_name\").groupBy(\"nationality_name\").count().orderBy(col(\"count\").desc()).show()"
   ]
  },
  {
   "cell_type": "markdown",
   "metadata": {
    "application/vnd.databricks.v1+cell": {
     "cellMetadata": {
      "byteLimit": 2048000,
      "rowLimit": 10000
     },
     "inputWidgets": {},
     "nuid": "f78ee16f-342b-4121-b0a3-2044d9abbfec",
     "showTitle": false,
     "title": ""
    }
   },
   "source": [
    "###Número total de jugadores masculinos y femeninos, y mostrar la deferencia en términos de número de jugadores"
   ]
  },
  {
   "cell_type": "code",
   "execution_count": 0,
   "metadata": {
    "application/vnd.databricks.v1+cell": {
     "cellMetadata": {
      "byteLimit": 2048000,
      "rowLimit": 10000
     },
     "inputWidgets": {},
     "nuid": "2bcd683b-4a2d-42c0-8af8-fa00ce4a72ae",
     "showTitle": false,
     "title": ""
    }
   },
   "outputs": [
    {
     "output_type": "stream",
     "name": "stdout",
     "output_type": "stream",
     "text": [
      "Cantidad de jugadoras: 5035\nCantidad de jugadores: 180021\nDiferencia entre jugadoras femeninas y jugadores masculinos es: 174986\n"
     ]
    }
   ],
   "source": [
    "conteo_jugadoras = female_players.select(\n",
    "    F.count(\"long_name\").alias(\"conteo_jugadoras_femeninas\")\n",
    ").first()[0]\n",
    "\n",
    "print(\"Cantidad de jugadoras: \" + str(conteo_jugadoras))\n",
    "\n",
    "conteo_jugadores = male_players.select(\n",
    "    F.count(\"long_name\").alias(\"conteo_jugadores_masculinas\")\n",
    ").first()[0]\n",
    "\n",
    "print(\"Cantidad de jugadores: \" + str(conteo_jugadores))\n",
    "\n",
    "diferencia = conteo_jugadores - conteo_jugadoras\n",
    "\n",
    "print(\"Diferencia entre jugadoras femeninas y jugadores masculinos es: \" + str(diferencia))"
   ]
  },
  {
   "cell_type": "markdown",
   "metadata": {
    "application/vnd.databricks.v1+cell": {
     "cellMetadata": {},
     "inputWidgets": {},
     "nuid": "ada92e9c-1df5-4deb-a450-93a347433062",
     "showTitle": false,
     "title": ""
    }
   },
   "source": [
    "###Promedio de habilidad en tiro para jugadores masculinos y femeninos en cada posición"
   ]
  },
  {
   "cell_type": "code",
   "execution_count": 0,
   "metadata": {
    "application/vnd.databricks.v1+cell": {
     "cellMetadata": {
      "byteLimit": 2048000,
      "rowLimit": 10000
     },
     "inputWidgets": {},
     "nuid": "1a780b05-d039-418e-aa1e-d2e04615cce6",
     "showTitle": false,
     "title": ""
    }
   },
   "outputs": [
    {
     "output_type": "stream",
     "name": "stdout",
     "output_type": "stream",
     "text": [
      "Jugadores Masculinos\n+-----------------------------------+----------------+-----------------+\n|long_name                          |player_positions|Habilidad en tiro|\n+-----------------------------------+----------------+-----------------+\n|Cristiano Ronaldo dos Santos Aveiro|ST, LW          |94               |\n|Cristiano Ronaldo dos Santos Aveiro|LW, LM          |93               |\n|Cristiano Ronaldo dos Santos Aveiro|LW, ST          |93               |\n|Harry Kane                         |ST              |93               |\n|Erling Braut Haaland               |ST              |93               |\n|Lionel Andrés Messi Cuccittini     |RW, CF, ST      |92               |\n|Robert Lewandowski                 |ST              |92               |\n|Cristiano Ronaldo dos Santos Aveiro|LW, LM, ST      |92               |\n|Lionel Andrés Messi Cuccittini     |RW, ST, CF      |92               |\n|Cristiano Ronaldo dos Santos Aveiro|ST              |92               |\n|Zlatan Ibrahimović                 |ST              |91               |\n|Lionel Andrés Messi Cuccittini     |CF, RW, ST      |91               |\n|Sergio Leonel Agüero del Castillo  |ST              |90               |\n|Kylian Mbappé Lottin               |ST, LW          |90               |\n|Luis Alberto Suárez Díaz           |ST              |90               |\n|Robin van Persie                   |ST              |90               |\n|Lionel Andrés Messi Cuccittini     |RW              |90               |\n|Fabio Quagliarella                 |ST              |89               |\n|Mohamed Salah Ghaly                |RW              |89               |\n|Lionel Andrés Messi Cuccittini     |CF              |89               |\n+-----------------------------------+----------------+-----------------+\nonly showing top 20 rows\n\nJugadoras Femeninas\n+----------------------------------+----------------+-----------------+\n|long_name                         |player_positions|Habilidad en tiro|\n+----------------------------------+----------------+-----------------+\n|Vivianne Miedema                  |ST              |93               |\n|Eugénie Anne Claudine Le Sommer   |ST, LW, CAM     |92               |\n|Samantha May Kerr                 |ST, LW          |91               |\n|Alexandra Morgan Carrasco         |ST              |91               |\n|Samantha May Kerr                 |ST              |91               |\n|Ada Martine Stolsmo Hegerberg     |ST              |91               |\n|Jennifer Hermoso Fuentes          |ST, CF, CM      |90               |\n|Alexia Putellas Segura            |CM, LW          |90               |\n|Marie-Antoinette Oda Katoto       |ST              |90               |\n|Jennifer Hermoso Fuentes          |ST, CAM, CF     |90               |\n|Christine Margaret Sinclair       |LW, ST, CAM     |89               |\n|Alexandra Popp                    |ST, LM          |89               |\n|Christine Margaret Sinclair       |ST, CAM         |89               |\n|Abby Wambach                      |ST              |89               |\n|Jennifer Hermoso Fuentes          |ST, CAM, CM     |89               |\n|Ewa Pajor                         |ST              |89               |\n|Megan Anna Rapinoe                |LW, LM          |88               |\n|Francesca Kirby                   |CAM, ST, CM     |88               |\n|Francesca Kirby                   |ST, CAM, RW     |88               |\n|Elisabeth Petronella Lieke Martens|LW, CAM         |87               |\n+----------------------------------+----------------+-----------------+\nonly showing top 20 rows\n\n"
     ]
    }
   ],
   "source": [
    "print(\"Jugadores Masculinos\")\n",
    "male_players.select(\"long_name\", \"player_positions\", \"shooting\").groupBy(\"long_name\", \"player_positions\").agg(\n",
    "    max(col(\"shooting\")).alias(\"Habilidad en tiro\")\n",
    ").orderBy(col(\"Habilidad en tiro\").desc()).show(truncate = False)\n",
    "\n",
    "print(\"Jugadoras Femeninas\")\n",
    "female_players.select(\"long_name\", \"player_positions\", \"shooting\").groupBy(\"long_name\", \"player_positions\").agg(\n",
    "    max(col(\"shooting\")).alias(\"Habilidad en tiro\")\n",
    ").orderBy(col(\"Habilidad en tiro\").desc()).show(truncate = False)"
   ]
  },
  {
   "cell_type": "markdown",
   "metadata": {
    "application/vnd.databricks.v1+cell": {
     "cellMetadata": {},
     "inputWidgets": {},
     "nuid": "349630be-9539-4a46-af87-51c49ab30314",
     "showTitle": false,
     "title": ""
    }
   },
   "source": [
    "###Encontrar el equipo masculino y el equipo femenino con el mayor reputación internacional"
   ]
  },
  {
   "cell_type": "code",
   "execution_count": 0,
   "metadata": {
    "application/vnd.databricks.v1+cell": {
     "cellMetadata": {
      "byteLimit": 2048000,
      "rowLimit": 10000
     },
     "inputWidgets": {},
     "nuid": "02415659-6688-4a62-94bd-4c6085df8844",
     "showTitle": false,
     "title": ""
    }
   },
   "outputs": [
    {
     "output_type": "stream",
     "name": "stdout",
     "output_type": "stream",
     "text": [
      "Equipos Masculinos\n+-------------------+---------------------------+\n|team_name          |international_prestige_team|\n+-------------------+---------------------------+\n|Manchester United  |20                         |\n|Germany            |20                         |\n|Real Madrid        |20                         |\n|Spain              |20                         |\n|FC Barcelona       |20                         |\n|FC Bayern München  |20                         |\n|Brazil             |20                         |\n|Chelsea            |20                         |\n|Argentina          |19                         |\n|Manchester City    |19                         |\n|Atlético Madrid    |19                         |\n|Juventus           |19                         |\n|France             |18                         |\n|Arsenal            |18                         |\n|Paris Saint Germain|18                         |\n|Italy              |18                         |\n|Milan              |18                         |\n|Inter              |18                         |\n|Liverpool          |18                         |\n|Borussia Dortmund  |18                         |\n+-------------------+---------------------------+\nonly showing top 20 rows\n\nEquipos Femeninos\n+-------------------+---------------------------+\n|team_name          |international_prestige_team|\n+-------------------+---------------------------+\n|United States W    |20                         |\n|Germany W          |20                         |\n|Brazil W           |17                         |\n|Sweden W           |16                         |\n|Canada W           |15                         |\n|France W           |14                         |\n|England W          |13                         |\n|Australia          |11                         |\n|China W            |10                         |\n|Italy              |9                          |\n|Spain W            |8                          |\n|Netherlands W      |8                          |\n|Japan Women        |8                          |\n|Mexico W           |7                          |\n|Norway W           |5                          |\n|RB Leipzig W       |3                          |\n|Real Betis W       |3                          |\n|Washington Spirit W|3                          |\n|Stade de Reims W   |3                          |\n|Dijon W            |3                          |\n+-------------------+---------------------------+\nonly showing top 20 rows\n\n"
     ]
    }
   ],
   "source": [
    "print(\"Equipos Masculinos\")\n",
    "male_teams.select(\"team_name\", \"international_prestige\").groupBy(\"team_name\").agg(\n",
    "    max(col(\"international_prestige\")).alias(\"international_prestige_team\")\n",
    ").orderBy(col(\"international_prestige_team\").desc()).show(truncate = False)\n",
    "\n",
    "print(\"Equipos Femeninos\")\n",
    "female_teams.select(\"team_name\", \"international_prestige\").groupBy(\"team_name\").agg(\n",
    "    max(col(\"international_prestige\")).alias(\"international_prestige_team\")\n",
    ").orderBy(col(\"international_prestige_team\").desc()).show(truncate = False)"
   ]
  }
 ],
 "metadata": {
  "application/vnd.databricks.v1+notebook": {
   "dashboards": [],
   "language": "python",
   "notebookMetadata": {
    "pythonIndentUnit": 4
   },
   "notebookName": "DataSet EA Sports FC 24",
   "widgets": {}
  }
 },
 "nbformat": 4,
 "nbformat_minor": 0
}
