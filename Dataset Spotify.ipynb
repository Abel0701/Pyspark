{
 "cells": [
  {
   "cell_type": "code",
   "execution_count": 0,
   "metadata": {
    "application/vnd.databricks.v1+cell": {
     "cellMetadata": {
      "byteLimit": 2048000,
      "rowLimit": 10000
     },
     "inputWidgets": {},
     "nuid": "838a6963-1163-44f8-8eda-a120f9408536",
     "showTitle": false,
     "title": ""
    }
   },
   "outputs": [],
   "source": [
    "from pyspark.sql import functions as F\n",
    "from pyspark.sql.functions import *"
   ]
  },
  {
   "cell_type": "code",
   "execution_count": 0,
   "metadata": {
    "application/vnd.databricks.v1+cell": {
     "cellMetadata": {
      "byteLimit": 2048000,
      "rowLimit": 10000
     },
     "inputWidgets": {},
     "nuid": "cbf66899-d36c-4943-a18a-c15f34d270f2",
     "showTitle": false,
     "title": ""
    }
   },
   "outputs": [],
   "source": [
    "spotify_table_0 = spark.read.format(\"csv\")\\\n",
    "    .option(\"header\", \"true\")\\\n",
    "    .option(\"inferschema\", \"true\")\\\n",
    "    .load(\"/FileStore/shared_uploads/arraz7191@gmail.com/spotify_data.csv\")"
   ]
  },
  {
   "cell_type": "code",
   "execution_count": 0,
   "metadata": {
    "application/vnd.databricks.v1+cell": {
     "cellMetadata": {
      "byteLimit": 2048000,
      "rowLimit": 10000
     },
     "inputWidgets": {},
     "nuid": "2f16cd38-aaee-48ab-87d1-437cf03aead9",
     "showTitle": false,
     "title": ""
    }
   },
   "outputs": [],
   "source": [
    "spotify_table = spotify_table_0.dropna()"
   ]
  },
  {
   "cell_type": "code",
   "execution_count": 0,
   "metadata": {
    "application/vnd.databricks.v1+cell": {
     "cellMetadata": {
      "byteLimit": 2048000,
      "rowLimit": 10000
     },
     "inputWidgets": {},
     "nuid": "d8f7b5d9-6427-4c07-8f5c-ceb912e6ba89",
     "showTitle": false,
     "title": ""
    }
   },
   "outputs": [
    {
     "output_type": "stream",
     "name": "stdout",
     "output_type": "stream",
     "text": [
      "+--------------------+--------------------+--------------------+-----------+------------+----+------------+------------+-------+----------------+--------+--------+-----------+-------+-------+----+---+----------+--------+\n|                  id|                name|             artists|duration_ms|release_date|year|acousticness|danceability| energy|instrumentalness|liveness|loudness|speechiness|  tempo|valence|mode|key|popularity|explicit|\n+--------------------+--------------------+--------------------+-----------+------------+----+------------+------------+-------+----------------+--------+--------+-----------+-------+-------+----+---+----------+--------+\n|6KbQ3uYMLKb5jDxLF...|Singende Bataillo...| ['Carl Woitschach']|     158648|        1928|1928|       0.995|       0.708|  0.195|           0.563|   0.151| -12.428|     0.0506|118.469|  0.779|   1| 10|         0|       0|\n|6KuQTIu1KoTTkLXKr...|Fantasiestücke, O...|['Robert Schumann...|     282133|        1928|1928|       0.994|       0.379| 0.0135|           0.901|  0.0763| -28.454|     0.0462| 83.972| 0.0767|   1|  8|         0|       0|\n|6L63VW0PibdM1HDSB...|Chapter 1.18 - Za...|['Seweryn Goszczy...|     104300|        1928|1928|       0.604|       0.749|   0.22|               0|   0.119| -19.924|      0.929|107.177|   0.88|   0|  5|         0|       0|\n|6M94FkXd15sOAOQYR...|Bebamos Juntos - ...|['Francisco Canaro']|     180760|     9/25/28|1928|       0.995|       0.781|   0.13|           0.887|   0.111| -14.734|     0.0926|108.003|   0.72|   0|  1|         0|       0|\n|6N6tiFZ9vLTSOIxkj...|Polonaise-Fantais...|['Frédéric Chopin...|     687733|        1928|1928|        0.99|        0.21|  0.204|           0.908|   0.098| -16.829|     0.0424| 62.149| 0.0693|   1| 11|         1|       0|\n|6NxAf7M8DNHOBTmEd...|Scherzo a capricc...|['Felix Mendelsso...|     352600|        1928|1928|       0.995|       0.424|   0.12|           0.911|  0.0915| -19.242|     0.0593| 63.521|  0.266|   0|  6|         0|       0|\n|6O0puPuyrxPjDTHDU...|Valse oubliée No....|['Franz Liszt', '...|     136627|        1928|1928|       0.956|       0.444|  0.197|           0.435|  0.0744| -17.226|       0.04| 80.495|  0.305|   1| 11|         0|       0|\n|6OJjveoYwJdIt76y0...| Per aspera ad astra| ['Carl Woitschach']|     153967|        1928|1928|       0.988|       0.555|  0.421|           0.836|   0.105|  -9.878|     0.0474| 123.31|  0.857|   1|  1|         0|       0|\n|6OaJ8Bh7lsBeYoBmw...|Moneda Corriente ...|['Francisco Canar...|     162493|     10/3/28|1928|       0.995|       0.683|  0.207|           0.206|   0.337|  -9.801|      0.127|119.833|  0.493|   0|  9|         0|       0|\n|6PrZexNb16cabXR8Q...|Chapter 1.3 - Zam...|['Seweryn Goszczy...|     111600|        1928|1928|       0.846|       0.674|  0.205|               0|    0.17| -20.119|      0.954| 81.249|  0.759|   1|  9|         0|       0|\n|6QBInZBkQNIQYU9gG...|Piano Sonata No. ...|['Sergei Rachmani...|     590293|        1928|1928|       0.994|       0.376| 0.0719|           0.883|   0.196| -21.849|     0.0352| 141.39| 0.0393|   0| 10|         0|       0|\n|6QIONtzbQCbnmWNwn...|Piano Sonata No. ...|['Frédéric Chopin...|      85133|        1928|1928|       0.989|        0.17| 0.0823|           0.911|  0.0962| -30.107|     0.0317| 85.989|  0.346|   0| 10|         1|       0|\n|6QgdUySTRGVkNo3Kw...|Piano Sonata in E...|['Samuel Barber',...|     338333|        1928|1928|        0.99|       0.359| 0.0435|           0.899|   0.109| -20.858|     0.0424| 96.645|  0.042|   1|  7|         0|       0|\n|6RvSNoCPBZeTR2LyG...|Nachtstücke, Op. ...|['Robert Schumann...|     167333|        1928|1928|       0.992|       0.311| 0.0107|           0.883|  0.0954| -35.648|     0.0556|  78.98|  0.216|   1|  5|         0|       0|\n|6Rwn56jcC0TdGQzbR...|Symphony No. 5 in...|['Ludwig van Beet...|     276563|      1/1/28|1928|       0.977|       0.335|  0.105|            0.84|   0.231| -16.049|     0.0716| 80.204|  0.406|   0|  5|         0|       0|\n|6Sdpmree8xpGWaedA...|A Shropshire Lad:...|['George Butterwo...|     184840|        1928|1928|       0.991|       0.319|0.00593|        6.35E-05|  0.0691| -25.789|      0.051| 79.831|  0.169|   0|  7|         0|       0|\n|6T0mZB7p3qzOifdXZ...|Sonata No. 3, Op....|['Alexander Scria...|     326067|        1928|1928|       0.996|       0.319|  0.155|           0.917|   0.126| -18.728|      0.036| 66.947| 0.0488|   1|  4|         0|       0|\n|6TFuAErGpJ9FpxQQ1...|Invocación al Tan...|['Francisco Canar...|     167107|     9/16/28|1928|       0.994|       0.787|  0.156|           0.659|    0.11| -14.056|      0.157|117.167|  0.849|   0|  4|         0|       0|\n|6UUfiNT82MWBNnmsE...| Where the Bee Sucks|['Thomas Arne', '...|     122533|        1928|1928|       0.993|       0.569|   0.15|          0.0015|   0.106| -15.238|     0.0474|  76.93|  0.596|   1|  5|         0|       0|\n|6Ukl7n0q3Cjd0Og8u...|Tendrás Que Llora...|['Francisco Canaro']|     173707|     9/17/28|1928|       0.992|       0.763|  0.132|          0.0693|   0.112| -13.002|     0.0886|111.679|  0.832|   1|  4|         0|       0|\n+--------------------+--------------------+--------------------+-----------+------------+----+------------+------------+-------+----------------+--------+--------+-----------+-------+-------+----+---+----------+--------+\nonly showing top 20 rows\n\n"
     ]
    }
   ],
   "source": [
    "spotify_table.show()"
   ]
  },
  {
   "cell_type": "markdown",
   "metadata": {
    "application/vnd.databricks.v1+cell": {
     "cellMetadata": {
      "byteLimit": 2048000,
      "rowLimit": 10000
     },
     "inputWidgets": {},
     "nuid": "7ac9cb68-7c09-48af-81fb-1db1ea6d8596",
     "showTitle": false,
     "title": ""
    }
   },
   "source": [
    "##Filtrar canciones por año"
   ]
  },
  {
   "cell_type": "code",
   "execution_count": 0,
   "metadata": {
    "application/vnd.databricks.v1+cell": {
     "cellMetadata": {
      "byteLimit": 2048000,
      "rowLimit": 10000
     },
     "inputWidgets": {},
     "nuid": "112fce29-2d75-4816-879b-8ba557ba6d75",
     "showTitle": false,
     "title": ""
    }
   },
   "outputs": [],
   "source": [
    "def año_cancion(año):\n",
    "    cancion_año = spotify_table.select(\"name\", \"year\")\n",
    "    cancion_año.filter(col(\"year\") == año).show(truncate = False)"
   ]
  },
  {
   "cell_type": "code",
   "execution_count": 0,
   "metadata": {
    "application/vnd.databricks.v1+cell": {
     "cellMetadata": {
      "byteLimit": 2048000,
      "rowLimit": 10000
     },
     "inputWidgets": {},
     "nuid": "772b70f2-9517-465a-ac48-45f6f8c44294",
     "showTitle": false,
     "title": ""
    }
   },
   "outputs": [
    {
     "output_type": "stream",
     "name": "stdout",
     "output_type": "stream",
     "text": [
      "+-------------------------------------------+----+\n|name                                       |year|\n+-------------------------------------------+----+\n|Meet Me In The City - Studio Outtake - 1979|1980|\n|By Your Side                               |1980|\n|Puerto de Illusion                         |1980|\n|Devil in My Car                            |1980|\n|Right Start - Unfinished Outtake           |1980|\n|Where Were You                             |1980|\n|My Only Love                               |1980|\n|The World's a Mess, It's in My Kiss        |1980|\n|Indian Girl - Remastered                   |1980|\n|Shining                                    |1980|\n|The Plastic Age                            |1980|\n|Falling In Love                            |1980|\n|Something About England - Remastered       |1980|\n|I'm Losing You                             |1980|\n|The Trumpet of Jesus                       |1980|\n|Oh Well (Pt. 1) - Live 1980, St. Louis, MO |1980|\n|Biscuits in the Oven                       |1980|\n|La Traidora                                |1980|\n|Sail Away Sweet Sister                     |1980|\n|Green River - Live                         |1980|\n+-------------------------------------------+----+\nonly showing top 20 rows\n\n"
     ]
    }
   ],
   "source": [
    "año_cancion(1980)"
   ]
  },
  {
   "cell_type": "markdown",
   "metadata": {
    "application/vnd.databricks.v1+cell": {
     "cellMetadata": {
      "byteLimit": 2048000,
      "rowLimit": 10000
     },
     "inputWidgets": {},
     "nuid": "f16e9f35-fca5-464f-a823-1f87c0f88963",
     "showTitle": false,
     "title": ""
    }
   },
   "source": [
    "##Canción más larga"
   ]
  },
  {
   "cell_type": "code",
   "execution_count": 0,
   "metadata": {
    "application/vnd.databricks.v1+cell": {
     "cellMetadata": {
      "byteLimit": 2048000,
      "rowLimit": 10000
     },
     "inputWidgets": {},
     "nuid": "87e3f86f-a1ad-4f51-9c44-48644458c125",
     "showTitle": false,
     "title": ""
    }
   },
   "outputs": [
    {
     "output_type": "stream",
     "name": "stdout",
     "output_type": "stream",
     "text": [
      "+--------------------------------------------------------------------------------------------------------------+------------------+\n|name                                                                                                          |longer_song       |\n+--------------------------------------------------------------------------------------------------------------+------------------+\n|Brown Noise - 90 Minutes                                                                                      |90.05833333333334 |\n|Brown Noise for Sleep                                                                                         |71.16723333333333 |\n|Midnight Thunderstorm Part 2                                                                                  |71.15678333333334 |\n|Ocean Waves Sounds                                                                                            |68.67096666666667 |\n|Ocean Waves for Sleep                                                                                         |68.67096666666667 |\n|Dopesmoker                                                                                                    |63.60621666666667 |\n|Thursday Afternoon - 2005 Digital Remaster                                                                    |60.846666666666664|\n|The Psychologically Ultimate Seashore (16 rpm)                                                                |59.29925          |\n|Enta Oumry                                                                                                    |59.18586666666667 |\n|Naheg El Berda                                                                                                |58.72698333333334 |\n|Aladdin - Storyteller                                                                                         |57.20178333333333 |\n|Anslag                                                                                                        |51.55376666666667 |\n|Address to Congress on Yalta - 03 01 1945                                                                     |51.52288333333333 |\n|Yalle Kan Yshgek Anene                                                                                        |51.48758333333333 |\n|State of the Union Address (January 7, 1943)                                                                  |47.42791666666667 |\n|Ghana El Rabea                                                                                                |46.99975          |\n|Halet Layale El Qamar                                                                                         |45.2256           |\n|Eye No, Alphabet St., Glam Slam, Anna Stesia, Dance On, Lovesexy, When 2R in Love, I Wish U Heaven, Positivity|45.053783333333335|\n|Bruno Walter Rehearses the Siegfried-Idyll                                                                    |44.83445          |\n|The Many Adventures of Winnie the Pooh                                                                        |44.65845          |\n+--------------------------------------------------------------------------------------------------------------+------------------+\nonly showing top 20 rows\n\n"
     ]
    }
   ],
   "source": [
    "spotify_table = spotify_table.withColumn(\"minutes\", expr(\"duration_ms\")/60000)\n",
    "tiempo_cancion = spotify_table.select(\"name\", \"minutes\")\n",
    "tiempo_cancion = spotify_table.groupBy(\"name\").agg(\n",
    "    max(col(\"minutes\")).alias(\"longer_song\")\n",
    ").orderBy(col(\"longer_song\").desc()).show(truncate= False)"
   ]
  },
  {
   "cell_type": "markdown",
   "metadata": {
    "application/vnd.databricks.v1+cell": {
     "cellMetadata": {
      "byteLimit": 2048000,
      "rowLimit": 10000
     },
     "inputWidgets": {},
     "nuid": "ac53ac61-fa83-4b28-9aeb-45abf7e2da85",
     "showTitle": false,
     "title": ""
    }
   },
   "source": [
    "##Canciones más populares"
   ]
  },
  {
   "cell_type": "code",
   "execution_count": 0,
   "metadata": {
    "application/vnd.databricks.v1+cell": {
     "cellMetadata": {
      "byteLimit": 2048000,
      "rowLimit": 10000
     },
     "inputWidgets": {},
     "nuid": "5d88fc70-819f-4d2b-a875-04177e84b96f",
     "showTitle": false,
     "title": ""
    }
   },
   "outputs": [
    {
     "output_type": "stream",
     "name": "stdout",
     "output_type": "stream",
     "text": [
      "+-------------------------------------------------------------------------------------------------+------+\n|name                                                                                             |Note  |\n+-------------------------------------------------------------------------------------------------+------+\n|\"Not Tonight (feat. Da Brat, Left Eye, Missy \"\"Misdemeanor\"\" Elliott and Angie Martinez) - Remix\"|99.429|\n|ROCKSTAR (feat. Roddy Ricch)                                                                     |99    |\n|South Pacific (1949): A Wonderful Guy - Voice                                                    |97.724|\n|death bed (coffee for your head) (feat. beabadoobee)                                             |97    |\n|I Ain't Superstitious                                                                            |96.361|\n|THE SCOTTS                                                                                       |96    |\n|ily (i love you baby) (feat. Emilee)                                                             |95    |\n|Toosie Slide                                                                                     |95    |\n|Supalonely                                                                                       |95    |\n|The Box                                                                                          |95    |\n|GOOBA                                                                                            |94    |\n|Dance Monkey                                                                                     |94    |\n|Rain On Me (with Ariana Grande)                                                                  |94    |\n|Party Girl                                                                                       |94    |\n|Stuck with U (with Justin Bieber)                                                                |94    |\n|\"Verdi : Un giorno di regno : Act 2 \"\"Sì                                                         |93.775|\n|\"Bach: Herz und Mund und Tat und Leben, BWV 147: Chorale. \"\"Jesus bleibet meine Freude           |93.649|\n|\"Verdi : Nabucco : Part 3 - La Profezia \"\"Eccelsa donna                                          |93.193|\n|Sunday Best                                                                                      |93    |\n|Don't Start Now                                                                                  |93    |\n+-------------------------------------------------------------------------------------------------+------+\nonly showing top 20 rows\n\n"
     ]
    }
   ],
   "source": [
    "popularidad = spotify_table.select(\"name\", \"popularity\")\n",
    "popularidad = spotify_table.groupBy(\"name\").agg(\n",
    "    max(col(\"popularity\")).alias(\"Note\")\n",
    ").orderBy(col(\"Note\").desc()).show(truncate = False)"
   ]
  },
  {
   "cell_type": "markdown",
   "metadata": {
    "application/vnd.databricks.v1+cell": {
     "cellMetadata": {
      "byteLimit": 2048000,
      "rowLimit": 10000
     },
     "inputWidgets": {},
     "nuid": "a2216854-0e72-4ebf-8be2-17722c0113bb",
     "showTitle": false,
     "title": ""
    }
   },
   "source": [
    "##Promedio de acústica por año"
   ]
  },
  {
   "cell_type": "code",
   "execution_count": 0,
   "metadata": {
    "application/vnd.databricks.v1+cell": {
     "cellMetadata": {
      "byteLimit": 2048000,
      "rowLimit": 10000
     },
     "inputWidgets": {},
     "nuid": "c473d89b-ca17-4f02-b082-bcc8338297ea",
     "showTitle": false,
     "title": ""
    }
   },
   "outputs": [
    {
     "output_type": "stream",
     "name": "stdout",
     "output_type": "stream",
     "text": [
      "+----------------------------------------------------------------------------------------------------------------------------------------------------------------------------------------------------+--------+\n|canciones                                                                                                                                                                                           |acustica|\n+----------------------------------------------------------------------------------------------------------------------------------------------------------------------------------------------------+--------+\n|['Johann Sebastian Bach', 'Otto Klemperer', 'Philharmonia Orchestra']                                                                                                                               |706400.0|\n|['Ludwig van Beethoven', 'Jenő Jandó']                                                                                                                                                              |453267.0|\n| 'New York Philharmonic']\"                                                                                                                                                                          |450667.0|\n|['Giuseppe Verdi', 'Francesco Molinari-Pradelli', 'Antonietta Stella', 'Bianca Furlai', 'Carlo Bergonzi', 'Giorgio Giorgetti', 'Orchestra Sinfonica di Roma della RAI']                             |415173.0|\n| \"\"Orchestra dell'Accademia Nazionale di Santa Cecilia\"\"]\"                                                                                                                                          |399088.5|\n|['Giuseppe Verdi', 'Fernando Previtali', 'Caterina Mancini', 'Ezio Achilli', 'Giacomo Vaghi', 'Gino Penno', 'Orchestra Sinfonica di Roma della RAI']                                                |397240.0|\n|['Giuseppe Verdi', 'Francesco Molinari-Pradelli', 'Coro di Roma della RAI', 'Gaetano Riccitelli', 'Giorgio Giorgetti', 'Orchestra Sinfonica di Roma della RAI', 'Paolo Silveri', 'Walter Monachesi']|396466.0|\n|['Amilcare Ponchielli', 'Maria Callas', 'Antonino Votto', 'Bonaldo Giaiotti', 'Coro di Torino della RAI', 'Maria Amadini', 'Orchestra di Torino Della RAI']                                         |392440.0|\n|['Giuseppe Verdi', 'Mario Rossi', 'Amalia Pini', 'Cristiano Dalamangas', 'Giuseppe Nessi', 'Giuseppe Taddei', 'Orchestra Sinfonica Di Torino Della Rai']                                            |390066.0|\n| 'Maxim Schapiro']\"                                                                                                                                                                                 |380933.0|\n|['Giuseppe Verdi', 'Gabriele Santini', 'Maria Callas', 'Orchestra Sinfonica Di Torino Della Rai']                                                                                                   |374066.5|\n|['Giuseppe Verdi', 'Mario Rossi', 'Bruno Erminero', 'Coro di Torino della RAI', 'Lina Pagliughi', 'Orchestra Sinfonica Di Torino Della Rai', 'Rosanna Carteri']                                     |364733.0|\n| 'Richard Bonynge']\"                                                                                                                                                                                |363493.0|\n|['Ramsey Lewis Trio']                                                                                                                                                                               |351427.0|\n| 'Francesco Molinari-Pradelli']\"                                                                                                                                                                    |347933.0|\n|['Richard Wagner', 'Karl Böhm', 'Hans Hermann Nissen', 'Margarete Teschemacher', 'Torsten Ralf', 'Staatskapelle Dresden']                                                                           |347533.0|\n|['Giacomo Puccini', 'Maria Callas', 'Herbert von Karajan', 'Lucie Danieli', 'Luisa Villa', 'Mario Borriello', 'Orchestra Del Teatro Alla Scala, Milano']                                            |341000.0|\n| 'Mack 10']\"                                                                                                                                                                                        |339307.0|\n| 'Ann Harada']\"                                                                                                                                                                                     |327680.0|\n|['Gaetano Donizetti', 'Tito Gobbi', 'Orchestra del Maggio Musicale Fiorentino', 'Tullio Serafin']                                                                                                   |305640.0|\n+----------------------------------------------------------------------------------------------------------------------------------------------------------------------------------------------------+--------+\nonly showing top 20 rows\n\n"
     ]
    }
   ],
   "source": [
    "acustica = spotify_table.select(\"year\", \"acousticness\")\n",
    "acustica = spotify_table.groupBy(\"year\").agg(\n",
    "    avg(col(\"acousticness\")).alias(\"acustica\")\n",
    ").orderBy(col(\"acustica\").desc())\n",
    "\n",
    "acustica = acustica.withColumnRenamed(\"year\", \"canciones\")\n",
    "\n",
    "acustica.show(truncate = False)"
   ]
  },
  {
   "cell_type": "markdown",
   "metadata": {
    "application/vnd.databricks.v1+cell": {
     "cellMetadata": {
      "byteLimit": 2048000,
      "rowLimit": 10000
     },
     "inputWidgets": {},
     "nuid": "53184063-033f-48b9-b1d5-625cfb67bbf2",
     "showTitle": false,
     "title": ""
    }
   },
   "source": [
    "##Números de canciones por artista"
   ]
  },
  {
   "cell_type": "code",
   "execution_count": 0,
   "metadata": {
    "application/vnd.databricks.v1+cell": {
     "cellMetadata": {
      "byteLimit": 2048000,
      "rowLimit": 10000
     },
     "inputWidgets": {},
     "nuid": "aaba5cd9-2ce2-4c7f-a708-05c9645f7911",
     "showTitle": false,
     "title": ""
    }
   },
   "outputs": [
    {
     "output_type": "stream",
     "name": "stdout",
     "output_type": "stream",
     "text": [
      "+------------------------------+-------------+\n|artists                       |Num_canciones|\n+------------------------------+-------------+\n|['Эрнест Хемингуэй']          |1215         |\n|['Francisco Canaro']          |938          |\n|['Эрих Мария Ремарк']         |781          |\n|['Ignacio Corsini']           |620          |\n|['Frank Sinatra']             |592          |\n|['Bob Dylan']                 |539          |\n|['The Rolling Stones']        |512          |\n|['Johnny Cash']               |502          |\n|['The Beach Boys']            |491          |\n|['Elvis Presley']             |488          |\n|['Francisco Canaro', 'Charlo']|459          |\n|['Queen']                     |426          |\n|['Dean Martin']               |411          |\n|['The Beatles']               |410          |\n|['Miles Davis']               |408          |\n|['Fleetwood Mac']             |398          |\n|['Billie Holiday']            |395          |\n|['Ella Fitzgerald']           |354          |\n|['Lead Belly']                |339          |\n|['Led Zeppelin']              |338          |\n+------------------------------+-------------+\nonly showing top 20 rows\n\n"
     ]
    }
   ],
   "source": [
    "artista = spotify_table.groupBy(\"artists\").count().orderBy(col(\"count\").desc())\n",
    "artista = artista.withColumnRenamed(\"count\", \"Num_canciones\").show(truncate = False)"
   ]
  }
 ],
 "metadata": {
  "application/vnd.databricks.v1+notebook": {
   "dashboards": [],
   "language": "python",
   "notebookMetadata": {
    "pythonIndentUnit": 4
   },
   "notebookName": "Dataset Spotify",
   "widgets": {}
  }
 },
 "nbformat": 4,
 "nbformat_minor": 0
}
