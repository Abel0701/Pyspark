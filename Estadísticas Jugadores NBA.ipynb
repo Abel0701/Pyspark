{
 "cells": [
  {
   "cell_type": "code",
   "execution_count": 0,
   "metadata": {
    "application/vnd.databricks.v1+cell": {
     "cellMetadata": {
      "byteLimit": 2048000,
      "rowLimit": 10000
     },
     "inputWidgets": {},
     "nuid": "c53d76a2-5675-4c2e-9e8f-ceeebb0fbc5a",
     "showTitle": false,
     "title": ""
    }
   },
   "outputs": [],
   "source": [
    "from pyspark.sql.functions import *"
   ]
  },
  {
   "cell_type": "code",
   "execution_count": 0,
   "metadata": {
    "application/vnd.databricks.v1+cell": {
     "cellMetadata": {
      "byteLimit": 2048000,
      "rowLimit": 10000
     },
     "inputWidgets": {},
     "nuid": "495519a9-4d44-4cb5-82d8-3502f029f675",
     "showTitle": false,
     "title": ""
    }
   },
   "outputs": [],
   "source": [
    "estadisticas_0 = spark.read.format(\"csv\")\\\n",
    "    .option(\"inferschema\", \"true\")\\\n",
    "    .option(\"header\", \"true\")\\\n",
    "    .load(\"/FileStore/shared_uploads/arraz7191@gmail.com/nba_data_processed.csv\")"
   ]
  },
  {
   "cell_type": "code",
   "execution_count": 0,
   "metadata": {
    "application/vnd.databricks.v1+cell": {
     "cellMetadata": {
      "byteLimit": 2048000,
      "rowLimit": 10000
     },
     "inputWidgets": {},
     "nuid": "1245e655-a89d-4ee0-80f3-7523cd9b4e65",
     "showTitle": false,
     "title": ""
    }
   },
   "outputs": [
    {
     "output_type": "stream",
     "name": "stdout",
     "output_type": "stream",
     "text": [
      "Out[3]: 705"
     ]
    }
   ],
   "source": [
    "estadisticas_0.count()"
   ]
  },
  {
   "cell_type": "code",
   "execution_count": 0,
   "metadata": {
    "application/vnd.databricks.v1+cell": {
     "cellMetadata": {
      "byteLimit": 2048000,
      "rowLimit": 10000
     },
     "inputWidgets": {},
     "nuid": "e217d020-f8f5-44be-8513-64c6dbe255d6",
     "showTitle": false,
     "title": ""
    }
   },
   "outputs": [],
   "source": [
    "estadisticas = estadisticas_0.dropna()"
   ]
  },
  {
   "cell_type": "code",
   "execution_count": 0,
   "metadata": {
    "application/vnd.databricks.v1+cell": {
     "cellMetadata": {
      "byteLimit": 2048000,
      "rowLimit": 10000
     },
     "inputWidgets": {},
     "nuid": "537ce44e-a865-4cd4-80d2-2513d155f8f8",
     "showTitle": false,
     "title": ""
    }
   },
   "outputs": [
    {
     "output_type": "stream",
     "name": "stdout",
     "output_type": "stream",
     "text": [
      "+------------------------+---+---+---+---+---+----+----+----+-----+---+---+-----+----+----+-----+-----+---+----+-----+---+---+----+---+---+---+---+---+----+------------------+\n|Player                  |Pos|Age|Tm |G  |GS |MP  |FG  |FGA |FG%  |3P |3PA|3P%  |2P  |2PA |2P%  |eFG% |FT |FTA |FT%  |ORB|DRB|TRB |AST|STL|BLK|TOV|PF |PTS |Rel_AST_TOV       |\n+------------------------+---+---+---+---+---+----+----+----+-----+---+---+-----+----+----+-----+-----+---+----+-----+---+---+----+---+---+---+---+---+----+------------------+\n|Precious Achiuwa        |C  |23 |TOR|55 |12 |20.7|3.6 |7.3 |0.485|0.5|2.0|0.269|3.0 |5.4 |0.564|0.521|1.6|2.3 |0.702|1.8|4.1|6.0 |0.9|0.6|0.5|1.1|1.9|9.2 |0.8181818181818181|\n|Steven Adams            |C  |29 |MEM|42 |42 |27.0|3.7 |6.3 |0.597|0.0|0.0|0.0  |3.7 |6.2 |0.599|0.597|1.1|3.1 |0.364|5.1|6.5|11.5|2.3|0.9|1.1|1.9|2.3|8.6 |1.2105263157894737|\n|Bam Adebayo             |C  |25 |MIA|75 |75 |34.6|8.0 |14.9|0.54 |0.0|0.2|0.083|8.0 |14.7|0.545|0.541|4.3|5.4 |0.806|2.5|6.7|9.2 |3.2|1.2|0.8|2.5|2.8|20.4|1.28              |\n|Ochai Agbaji            |SG |22 |UTA|59 |22 |20.5|2.8 |6.5 |0.427|1.4|3.9|0.355|1.4 |2.7 |0.532|0.532|0.9|1.2 |0.812|0.7|1.3|2.1 |1.1|0.3|0.3|0.7|1.7|7.9 |1.5714285714285716|\n|Santi Aldama            |PF |22 |MEM|77 |20 |21.8|3.2 |6.8 |0.47 |1.2|3.5|0.353|2.0 |3.4 |0.591|0.56 |1.4|1.9 |0.75 |1.1|3.7|4.8 |1.3|0.6|0.6|0.8|1.9|9.0 |1.625             |\n|Nickeil Alexander-Walker|SG |24 |TOT|59 |3  |15.0|2.2 |5.0 |0.444|1.0|2.7|0.384|1.2 |2.3 |0.515|0.547|0.7|1.0 |0.667|0.3|1.5|1.7 |1.8|0.5|0.4|0.9|1.5|6.2 |2.0               |\n|Nickeil Alexander-Walker|SG |24 |UTA|36 |3  |14.7|2.3 |4.7 |0.488|1.0|2.4|0.402|1.3 |2.3 |0.578|0.591|0.8|1.1 |0.692|0.2|1.4|1.6 |2.1|0.7|0.4|1.3|1.6|6.3 |1.6153846153846154|\n|Nickeil Alexander-Walker|SG |24 |MIN|23 |0  |15.5|2.1 |5.4 |0.384|1.1|3.1|0.361|1.0 |2.3 |0.415|0.488|0.6|0.9 |0.619|0.3|1.5|1.8 |1.4|0.3|0.3|0.4|1.3|5.9 |3.4999999999999996|\n|Grayson Allen           |SG |27 |MIL|72 |70 |27.4|3.4 |7.7 |0.44 |2.0|5.1|0.399|1.4 |2.7 |0.518|0.571|1.6|1.8 |0.905|0.8|2.4|3.3 |2.3|0.9|0.2|1.0|1.6|10.4|2.3               |\n|Jarrett Allen           |C  |24 |CLE|68 |68 |32.6|5.9 |9.2 |0.644|0.0|0.1|0.1  |5.9 |9.1 |0.653|0.645|2.4|3.3 |0.733|3.3|6.5|9.8 |1.7|0.8|1.2|1.4|2.3|14.3|1.2142857142857144|\n|Jose Alvarado           |PG |24 |NOP|61 |10 |21.5|3.3 |8.0 |0.411|1.4|4.0|0.336|1.9 |4.0 |0.488|0.496|1.1|1.3 |0.813|0.5|1.9|2.3 |3.0|1.1|0.2|1.3|2.0|9.0 |2.3076923076923075|\n|Kyle Anderson           |PF |29 |MIN|69 |46 |28.4|3.7 |7.2 |0.509|0.6|1.5|0.41 |3.0 |5.7 |0.536|0.553|1.4|2.0 |0.735|1.0|4.4|5.3 |4.9|1.1|0.9|1.5|2.1|9.4 |3.266666666666667 |\n|Giannis Antetokounmpo   |PF |28 |MIL|63 |63 |32.1|11.2|20.3|0.553|0.7|2.7|0.275|10.5|17.6|0.596|0.572|7.9|12.3|0.645|2.2|9.6|11.8|5.7|0.8|0.8|3.9|3.1|31.1|1.4615384615384617|\n|Thanasis Antetokounmpo  |PF |30 |MIL|37 |0  |5.6 |0.5 |1.2 |0.435|0.0|0.2|0.0  |0.5 |1.0 |0.526|0.435|0.3|0.6 |0.5  |0.4|0.8|1.2 |0.4|0.1|0.1|0.3|0.6|1.4 |1.3333333333333335|\n|Cole Anthony            |PG |22 |ORL|60 |4  |25.9|4.6 |10.2|0.454|1.3|3.4|0.364|3.4 |6.7 |0.5  |0.516|2.5|2.8 |0.894|0.8|4.0|4.8 |3.9|0.6|0.5|1.5|2.6|13.0|2.6               |\n|OG Anunoby              |SF |25 |TOR|67 |67 |35.6|6.3 |13.2|0.476|2.1|5.5|0.387|4.2 |7.7 |0.539|0.556|2.1|2.5 |0.838|1.4|3.5|5.0 |2.0|1.9|0.7|2.0|3.0|16.8|1.0               |\n|Deni Avdija             |SF |22 |WAS|76 |40 |26.6|3.3 |7.6 |0.437|0.9|3.1|0.297|2.4 |4.6 |0.53 |0.497|1.6|2.2 |0.739|1.0|5.4|6.4 |2.8|0.9|0.4|1.6|2.8|9.2 |1.7499999999999998|\n|Deandre Ayton           |C  |24 |PHO|67 |67 |30.4|7.8 |13.2|0.589|0.1|0.4|0.292|7.7 |12.9|0.597|0.592|2.3|3.0 |0.76 |2.6|7.4|10.0|1.7|0.6|0.8|1.8|2.8|18.0|0.9444444444444444|\n|Marvin Bagley III       |C  |23 |DET|42 |25 |23.6|4.8 |9.1 |0.529|0.5|1.6|0.288|4.4 |7.5 |0.579|0.554|1.9|2.6 |0.75 |2.2|4.2|6.4 |0.9|0.5|0.7|1.1|1.9|12.0|0.8181818181818181|\n|Patrick Baldwin Jr.     |SF |20 |GSW|31 |0  |7.3 |1.4 |3.5 |0.394|1.0|2.7|0.381|0.4 |0.8 |0.44 |0.541|0.1|0.2 |0.667|0.0|1.3|1.3 |0.4|0.2|0.1|0.4|0.5|3.9 |1.0               |\n+------------------------+---+---+---+---+---+----+----+----+-----+---+---+-----+----+----+-----+-----+---+----+-----+---+---+----+---+---+---+---+---+----+------------------+\nonly showing top 20 rows\n\n"
     ]
    }
   ],
   "source": [
    "estadisticas.show(truncate = False)"
   ]
  },
  {
   "cell_type": "markdown",
   "metadata": {
    "application/vnd.databricks.v1+cell": {
     "cellMetadata": {
      "byteLimit": 2048000,
      "rowLimit": 10000
     },
     "inputWidgets": {},
     "nuid": "e1ff8982-b979-4300-9a83-c41f29db47d4",
     "showTitle": false,
     "title": ""
    }
   },
   "source": [
    "##Filtramos por posición especifíca de los jugadores"
   ]
  },
  {
   "cell_type": "code",
   "execution_count": 0,
   "metadata": {
    "application/vnd.databricks.v1+cell": {
     "cellMetadata": {
      "byteLimit": 2048000,
      "rowLimit": 10000
     },
     "inputWidgets": {},
     "nuid": "5263b7f0-54ce-4170-81ad-4fcb643a639d",
     "showTitle": false,
     "title": ""
    }
   },
   "outputs": [
    {
     "output_type": "stream",
     "name": "stdout",
     "output_type": "stream",
     "text": [
      "+-----------------+---+---+---+---+---+----+---+----+-----+---+---+-----+---+----+-----+-----+---+---+-----+---+---+----+---+---+---+---+---+----+------------------+\n|Player           |Pos|Age|Tm |G  |GS |MP  |FG |FGA |FG%  |3P |3PA|3P%  |2P |2PA |2P%  |eFG% |FT |FTA|FT%  |ORB|DRB|TRB |AST|STL|BLK|TOV|PF |PTS |Rel_AST_TOV       |\n+-----------------+---+---+---+---+---+----+---+----+-----+---+---+-----+---+----+-----+-----+---+---+-----+---+---+----+---+---+---+---+---+----+------------------+\n|Precious Achiuwa |C  |23 |TOR|55 |12 |20.7|3.6|7.3 |0.485|0.5|2.0|0.269|3.0|5.4 |0.564|0.521|1.6|2.3|0.702|1.8|4.1|6.0 |0.9|0.6|0.5|1.1|1.9|9.2 |0.8181818181818181|\n|Steven Adams     |C  |29 |MEM|42 |42 |27.0|3.7|6.3 |0.597|0.0|0.0|0.0  |3.7|6.2 |0.599|0.597|1.1|3.1|0.364|5.1|6.5|11.5|2.3|0.9|1.1|1.9|2.3|8.6 |1.2105263157894737|\n|Bam Adebayo      |C  |25 |MIA|75 |75 |34.6|8.0|14.9|0.54 |0.0|0.2|0.083|8.0|14.7|0.545|0.541|4.3|5.4|0.806|2.5|6.7|9.2 |3.2|1.2|0.8|2.5|2.8|20.4|1.28              |\n|Jarrett Allen    |C  |24 |CLE|68 |68 |32.6|5.9|9.2 |0.644|0.0|0.1|0.1  |5.9|9.1 |0.653|0.645|2.4|3.3|0.733|3.3|6.5|9.8 |1.7|0.8|1.2|1.4|2.3|14.3|1.2142857142857144|\n|Deandre Ayton    |C  |24 |PHO|67 |67 |30.4|7.8|13.2|0.589|0.1|0.4|0.292|7.7|12.9|0.597|0.592|2.3|3.0|0.76 |2.6|7.4|10.0|1.7|0.6|0.8|1.8|2.8|18.0|0.9444444444444444|\n|Marvin Bagley III|C  |23 |DET|42 |25 |23.6|4.8|9.1 |0.529|0.5|1.6|0.288|4.4|7.5 |0.579|0.554|1.9|2.6|0.75 |2.2|4.2|6.4 |0.9|0.5|0.7|1.1|1.9|12.0|0.8181818181818181|\n|Mo Bamba         |C  |24 |TOT|49 |7  |15.7|2.4|4.9 |0.485|1.0|2.5|0.387|1.4|2.4 |0.59 |0.585|0.8|1.3|0.661|1.2|3.4|4.6 |0.9|0.3|0.9|0.6|2.1|6.6 |1.5               |\n|Mo Bamba         |C  |24 |ORL|40 |6  |17.0|2.7|5.4 |0.495|1.1|2.7|0.398|1.6|2.7 |0.594|0.596|0.9|1.3|0.686|1.2|3.4|4.6 |1.1|0.3|1.0|0.6|2.2|7.3 |1.8333333333333335|\n|Mo Bamba         |C  |24 |LAL|9  |1  |9.8 |1.2|3.0 |0.407|0.6|1.8|0.313|0.7|1.2 |0.545|0.5  |0.7|1.2|0.545|1.2|3.3|4.6 |0.4|0.1|0.6|0.9|2.1|3.7 |0.4444444444444445|\n|Charles Bassey   |C  |22 |SAS|35 |2  |14.5|2.5|3.9 |0.644|0.1|0.2|0.375|2.4|3.6 |0.661|0.656|0.6|1.1|0.595|2.1|3.4|5.5 |1.3|0.5|0.9|1.2|2.1|5.7 |1.0833333333333335|\n|Darius Bazley    |C  |22 |TOT|43 |1  |14.3|1.9|4.3 |0.454|0.5|1.2|0.377|1.5|3.0 |0.485|0.508|0.9|1.6|0.543|0.8|2.4|3.2 |0.9|0.5|0.8|0.6|1.0|5.2 |1.5               |\n|Darius Bazley    |C  |22 |OKC|36 |1  |15.4|2.0|4.4 |0.449|0.5|1.3|0.4  |1.5|3.1 |0.469|0.506|1.0|1.8|0.554|0.8|2.6|3.4 |0.9|0.5|0.8|0.6|1.0|5.4 |1.5               |\n|Darius Bazley    |C  |22 |PHO|7  |0  |8.7 |1.7|3.6 |0.48 |0.3|1.1|0.25 |1.4|2.4 |0.588|0.52 |0.3|0.7|0.4  |0.7|1.6|2.3 |0.9|0.4|0.7|0.7|1.3|4.0 |1.2857142857142858|\n|Khem Birch       |C  |30 |TOR|20 |0  |8.1 |1.0|1.6 |0.594|0.1|0.1|0.5  |0.9|1.5 |0.6  |0.609|0.2|0.3|0.8  |0.4|0.9|1.3 |0.4|0.3|0.3|0.4|1.2|2.2 |1.0               |\n|Goga Bitadze     |C  |23 |TOT|38 |1  |12.0|1.8|3.3 |0.552|0.2|0.7|0.231|1.7|2.6 |0.636|0.576|0.6|1.1|0.548|1.6|2.0|3.6 |1.0|0.4|0.7|0.6|1.7|4.4 |1.6666666666666667|\n|Goga Bitadze     |C  |23 |IND|21 |0  |9.6 |1.3|2.5 |0.519|0.2|0.7|0.286|1.1|1.8 |0.605|0.558|0.5|1.1|0.458|1.2|1.1|2.3 |0.9|0.4|0.5|0.6|1.6|3.3 |1.5               |\n|Goga Bitadze     |C  |23 |ORL|17 |1  |15.0|2.5|4.3 |0.575|0.1|0.7|0.167|2.4|3.6 |0.656|0.589|0.7|1.1|0.667|2.1|3.1|5.2 |1.2|0.4|0.9|0.6|1.8|5.8 |2.0               |\n|Tony Bradley     |C  |25 |CHI|12 |0  |2.8 |0.5|1.0 |0.5  |0.3|0.4|0.6  |0.3|0.6 |0.429|0.625|0.3|0.3|1.0  |0.1|0.8|0.9 |0.1|0.1|0.1|0.1|0.2|1.6 |1.0               |\n|Thomas Bryant    |C  |25 |TOT|59 |26 |18.3|3.9|6.3 |0.623|0.4|1.0|0.441|3.5|5.3 |0.658|0.659|1.6|2.1|0.738|1.5|4.3|5.7 |0.5|0.3|0.5|0.6|1.7|9.8 |0.8333333333333334|\n|Thomas Bryant    |C  |25 |LAL|41 |25 |21.4|4.8|7.3 |0.654|0.5|1.2|0.44 |4.3|6.1 |0.697|0.691|2.0|2.6|0.741|1.6|5.2|6.8 |0.7|0.3|0.6|0.7|1.9|12.1|1.0               |\n+-----------------+---+---+---+---+---+----+---+----+-----+---+---+-----+---+----+-----+-----+---+---+-----+---+---+----+---+---+---+---+---+----+------------------+\nonly showing top 20 rows\n\n+-----------------------+---+---+---+---+---+----+----+----+-----+---+----+-----+---+----+-----+-----+---+---+-----+---+---+---+---+---+---+---+---+----+------------------+\n|Player                 |Pos|Age|Tm |G  |GS |MP  |FG  |FGA |FG%  |3P |3PA |3P%  |2P |2PA |2P%  |eFG% |FT |FTA|FT%  |ORB|DRB|TRB|AST|STL|BLK|TOV|PF |PTS |Rel_AST_TOV       |\n+-----------------------+---+---+---+---+---+----+----+----+-----+---+----+-----+---+----+-----+-----+---+---+-----+---+---+---+---+---+---+---+---+----+------------------+\n|Jose Alvarado          |PG |24 |NOP|61 |10 |21.5|3.3 |8.0 |0.411|1.4|4.0 |0.336|1.9|4.0 |0.488|0.496|1.1|1.3|0.813|0.5|1.9|2.3|3.0|1.1|0.2|1.3|2.0|9.0 |2.3076923076923075|\n|Cole Anthony           |PG |22 |ORL|60 |4  |25.9|4.6 |10.2|0.454|1.3|3.4 |0.364|3.4|6.7 |0.5  |0.516|2.5|2.8|0.894|0.8|4.0|4.8|3.9|0.6|0.5|1.5|2.6|13.0|2.6               |\n|LaMelo Ball            |PG |21 |CHO|36 |36 |35.2|8.2 |20.0|0.411|4.0|10.6|0.376|4.2|9.4 |0.45 |0.51 |2.8|3.4|0.836|1.2|5.3|6.4|8.4|1.3|0.3|3.6|3.3|23.3|2.3333333333333335|\n|Dalano Banton          |PG |23 |TOR|31 |2  |9.0 |1.8 |4.2 |0.423|0.5|1.6 |0.294|1.3|2.5 |0.506|0.481|0.5|0.8|0.708|0.4|1.1|1.5|1.2|0.4|0.4|0.6|1.1|4.6 |2.0               |\n|Patrick Beverley       |PG |34 |CHI|22 |22 |27.5|2.1 |5.4 |0.395|1.1|3.7 |0.309|1.0|1.7 |0.579|0.5  |0.4|0.7|0.533|0.9|4.0|4.9|3.5|1.0|0.7|0.8|2.9|5.8 |4.375             |\n|Jamaree Bouyea         |PG |23 |TOT|5  |0  |14.2|1.2 |2.8 |0.429|0.4|1.2 |0.333|0.8|1.6 |0.5  |0.5  |0.2|0.4|0.5  |0.2|1.0|1.2|0.8|0.8|0.4|0.8|1.2|3.0 |1.0               |\n|Jamaree Bouyea         |PG |23 |MIA|4  |0  |16.3|1.5 |3.3 |0.462|0.5|1.3 |0.4  |1.0|2.0 |0.5  |0.538|0.3|0.5|0.5  |0.3|1.0|1.3|1.0|1.0|0.5|1.0|1.3|3.8 |1.0               |\n|Malcolm Brogdon        |PG |30 |BOS|67 |0  |26.0|5.3 |10.9|0.484|2.0|4.4 |0.444|3.3|6.5 |0.51 |0.574|2.4|2.7|0.87 |0.6|3.6|4.2|3.7|0.7|0.3|1.5|1.6|14.9|2.466666666666667 |\n|Jalen Brunson          |PG |26 |NYK|68 |68 |35.0|8.6 |17.6|0.491|2.0|4.7 |0.416|6.7|12.8|0.519|0.547|4.8|5.8|0.829|0.6|3.0|3.5|6.2|0.9|0.2|2.1|2.2|24.0|2.9523809523809526|\n|Facundo Campazzo       |PG |31 |DAL|8  |0  |6.5 |0.4 |1.6 |0.231|0.4|1.4 |0.273|0.0|0.3 |0.0  |0.346|0.1|0.3|0.5  |0.0|0.3|0.3|1.1|0.8|0.0|0.4|0.4|1.3 |2.75              |\n|Jevon Carter           |PG |27 |MIL|81 |39 |22.3|3.0 |7.0 |0.423|1.8|4.2 |0.421|1.2|2.8 |0.425|0.549|0.4|0.5|0.816|0.4|2.1|2.5|2.4|0.8|0.4|1.0|2.0|8.0 |2.4               |\n|Michael Carter-Williams|PG |31 |ORL|4  |0  |11.0|1.5 |3.5 |0.429|0.3|0.8 |0.333|1.3|2.8 |0.455|0.464|1.0|1.8|0.571|0.3|1.0|1.3|1.8|0.3|0.3|1.0|1.3|4.3 |1.8               |\n|Alex Caruso            |PG |28 |CHI|67 |36 |23.5|1.9 |4.3 |0.455|0.8|2.3 |0.364|1.1|2.0 |0.556|0.551|0.9|1.1|0.808|0.6|2.3|2.9|2.9|1.5|0.7|1.1|2.4|5.6 |2.6363636363636362|\n|Kennedy Chandler       |PG |20 |MEM|36 |0  |7.8 |1.0 |2.3 |0.422|0.1|0.4 |0.133|0.9|1.9 |0.485|0.434|0.2|0.4|0.462|0.3|0.8|1.1|1.6|0.3|0.1|0.5|0.4|2.2 |3.2               |\n|Mike Conley            |PG |35 |TOT|67 |66 |30.3|3.9 |9.1 |0.428|2.0|5.2 |0.385|1.9|3.9 |0.486|0.539|2.1|2.5|0.834|0.5|2.2|2.7|6.7|1.1|0.2|1.5|2.1|11.9|4.466666666666667 |\n|Mike Conley            |PG |35 |UTA|43 |42 |29.7|3.6 |8.7 |0.408|1.8|5.0 |0.362|1.8|3.8 |0.469|0.511|1.8|2.2|0.813|0.4|2.1|2.5|7.7|1.0|0.2|1.7|2.2|10.7|4.529411764705882 |\n|Mike Conley            |PG |35 |MIN|24 |24 |31.4|4.5 |9.8 |0.46 |2.4|5.8 |0.42 |2.1|4.0 |0.515|0.583|2.6|3.0|0.863|0.7|2.5|3.1|5.0|1.2|0.2|1.2|1.9|14.0|4.166666666666667 |\n|Cade Cunningham        |PG |21 |DET|12 |12 |33.3|7.8 |18.7|0.415|1.4|5.1 |0.279|6.3|13.6|0.466|0.453|3.0|3.6|0.837|1.0|5.2|6.2|6.0|0.8|0.6|3.3|2.8|19.9|1.8181818181818183|\n|Stephen Curry          |PG |34 |GSW|56 |56 |34.7|10.0|20.2|0.493|4.9|11.4|0.427|5.1|8.8 |0.579|0.614|4.6|5.0|0.915|0.7|5.4|6.1|6.3|0.9|0.4|3.2|2.1|29.4|1.9687499999999998|\n|Dyson Daniels          |PG |19 |NOP|59 |11 |17.7|1.5 |3.5 |0.418|0.5|1.5 |0.314|1.0|2.1 |0.492|0.483|0.4|0.7|0.65 |0.6|2.6|3.2|2.3|0.7|0.2|1.0|1.7|3.8 |2.3               |\n+-----------------------+---+---+---+---+---+----+----+----+-----+---+----+-----+---+----+-----+-----+---+---+-----+---+---+---+---+---+---+---+---+----+------------------+\nonly showing top 20 rows\n\n"
     ]
    }
   ],
   "source": [
    "# Posición de pívot(\"C\")\n",
    "estadisticas.filter(col(\"Pos\") == 'C').show(truncate = False)\n",
    "# Posición de base(\"PG\")\n",
    "estadisticas.filter(col(\"Pos\") == 'PG').show(truncate = False)"
   ]
  },
  {
   "cell_type": "markdown",
   "metadata": {
    "application/vnd.databricks.v1+cell": {
     "cellMetadata": {
      "byteLimit": 2048000,
      "rowLimit": 10000
     },
     "inputWidgets": {},
     "nuid": "c6addeea-d058-497b-bad6-e76e56c315ca",
     "showTitle": false,
     "title": ""
    }
   },
   "source": [
    "## Jugador más joven"
   ]
  },
  {
   "cell_type": "code",
   "execution_count": 0,
   "metadata": {
    "application/vnd.databricks.v1+cell": {
     "cellMetadata": {
      "byteLimit": 2048000,
      "rowLimit": 10000
     },
     "inputWidgets": {},
     "nuid": "73889ac1-e413-460a-9a08-cee265427521",
     "showTitle": false,
     "title": ""
    }
   },
   "outputs": [
    {
     "output_type": "stream",
     "name": "stdout",
     "output_type": "stream",
     "text": [
      "+-------------------+-------+\n|Player             |min_Age|\n+-------------------+-------+\n|Dyson Daniels      |19     |\n|AJ Griffin         |19     |\n|Jabari Smith Jr.   |19     |\n|Nikola Jović       |19     |\n|Dominick Barlow    |19     |\n|Jalen Duren        |19     |\n|Kendall Brown      |19     |\n|Blake Wesley       |19     |\n|Jeremy Sochan      |19     |\n|Max Christie       |19     |\n|Shaedon Sharpe     |19     |\n|Malaki Branham     |19     |\n|Ousmane Dieng      |19     |\n|Jaden Ivey         |20     |\n|Jonathan Kuminga   |20     |\n|Kenneth Lofton Jr. |20     |\n|Kennedy Chandler   |20     |\n|Patrick Baldwin Jr.|20     |\n|JD Davison         |20     |\n|Jalen Green        |20     |\n+-------------------+-------+\nonly showing top 20 rows\n\n"
     ]
    }
   ],
   "source": [
    "edad_0 = estadisticas.select(\"Player\", \"Age\")\n",
    "edad = edad_0.groupBy(\"Player\").agg(\n",
    "    min(col(\"Age\")).alias(\"min_Age\")\n",
    ").orderBy(col(\"min_Age\")).show(truncate = False)"
   ]
  },
  {
   "cell_type": "markdown",
   "metadata": {
    "application/vnd.databricks.v1+cell": {
     "cellMetadata": {
      "byteLimit": 2048000,
      "rowLimit": 10000
     },
     "inputWidgets": {},
     "nuid": "8e2d712d-b8dd-4949-a4c6-742438b69493",
     "showTitle": false,
     "title": ""
    }
   },
   "source": [
    "##Mejor Jugador con mejor porcentaje de tiros de campo"
   ]
  },
  {
   "cell_type": "code",
   "execution_count": 0,
   "metadata": {
    "application/vnd.databricks.v1+cell": {
     "cellMetadata": {
      "byteLimit": 2048000,
      "rowLimit": 10000
     },
     "inputWidgets": {},
     "nuid": "5e093315-35d7-4426-a3e9-38b2564af242",
     "showTitle": false,
     "title": ""
    }
   },
   "outputs": [
    {
     "output_type": "stream",
     "name": "stdout",
     "output_type": "stream",
     "text": [
      "+----------------+------+\n|Player          |max_FG|\n+----------------+------+\n|Terry Taylor    |0.9   |\n|Jericho Sims    |0.776 |\n|DeAndre Jordan  |0.765 |\n|Davon Reed      |0.75  |\n|Robert Williams |0.747 |\n|Dwight Powell   |0.732 |\n|Walker Kessler  |0.72  |\n|Jay Scrubb      |0.714 |\n|Damian Jones    |0.714 |\n|Nic Claxton     |0.705 |\n|Boban Marjanović|0.683 |\n|Luke Kornet     |0.665 |\n|Rudy Gobert     |0.659 |\n|Brandon Clarke  |0.656 |\n|Thomas Bryant   |0.654 |\n|Clint Capela    |0.653 |\n|Jalen Duren     |0.648 |\n|Charles Bassey  |0.644 |\n|Jarrett Allen   |0.644 |\n|Drew Eubanks    |0.641 |\n+----------------+------+\nonly showing top 20 rows\n\n"
     ]
    }
   ],
   "source": [
    "porcentaje_tiros_0 = estadisticas.select(\"Player\", \"FG%\")\n",
    "porcentaje_tiros = porcentaje_tiros_0.groupBy(\"Player\").agg(\n",
    "    max(col(\"FG%\")).alias(\"max_FG\")\n",
    ").orderBy(col(\"max_FG\").desc()).show(truncate = False)"
   ]
  },
  {
   "cell_type": "markdown",
   "metadata": {
    "application/vnd.databricks.v1+cell": {
     "cellMetadata": {
      "byteLimit": 2048000,
      "rowLimit": 10000
     },
     "inputWidgets": {},
     "nuid": "7d39d18c-c975-4ec4-bb00-04b568c95230",
     "showTitle": false,
     "title": ""
    }
   },
   "source": [
    "##Jugador con mayor cantidad de puntos"
   ]
  },
  {
   "cell_type": "code",
   "execution_count": 0,
   "metadata": {
    "application/vnd.databricks.v1+cell": {
     "cellMetadata": {
      "byteLimit": 2048000,
      "rowLimit": 10000
     },
     "inputWidgets": {},
     "nuid": "57b456ef-c9bc-4101-8f48-f582ced57e28",
     "showTitle": false,
     "title": ""
    }
   },
   "outputs": [
    {
     "output_type": "stream",
     "name": "stdout",
     "output_type": "stream",
     "text": [
      "+-----------------------+-------+\n|Player                 |max_PTO|\n+-----------------------+-------+\n|Joel Embiid            |33.1   |\n|Luka Dončić            |32.4   |\n|Damian Lillard         |32.2   |\n|Shai Gilgeous-Alexander|31.4   |\n|Giannis Antetokounmpo  |31.1   |\n|Jayson Tatum           |30.1   |\n|Kevin Durant           |29.7   |\n|Stephen Curry          |29.4   |\n|LeBron James           |28.9   |\n|Donovan Mitchell       |28.3   |\n|Devin Booker           |27.8   |\n|Kyrie Irving           |27.1   |\n|Jaylen Brown           |26.6   |\n|Ja Morant              |26.2   |\n|Trae Young             |26.2   |\n|Mikal Bridges          |26.1   |\n|Zion Williamson        |26.0   |\n|Anthony Davis          |25.9   |\n|Lauri Markkanen        |25.6   |\n|Julius Randle          |25.1   |\n+-----------------------+-------+\nonly showing top 20 rows\n\n"
     ]
    }
   ],
   "source": [
    "puntos_0 = estadisticas.select(\"Player\", \"PTS\")\n",
    "puntos = puntos_0.groupBy(\"Player\").agg(\n",
    "    max(col(\"PTS\")).alias(\"max_PTO\")\n",
    ").orderBy(col(\"max_PTO\").desc()).show(truncate = False)"
   ]
  },
  {
   "cell_type": "markdown",
   "metadata": {
    "application/vnd.databricks.v1+cell": {
     "cellMetadata": {
      "byteLimit": 2048000,
      "rowLimit": 10000
     },
     "inputWidgets": {},
     "nuid": "7b8aa5d5-b386-431d-b89d-781530283318",
     "showTitle": false,
     "title": ""
    }
   },
   "source": [
    "##Promedio de asistencias por posición"
   ]
  },
  {
   "cell_type": "code",
   "execution_count": 0,
   "metadata": {
    "application/vnd.databricks.v1+cell": {
     "cellMetadata": {
      "byteLimit": 2048000,
      "rowLimit": 10000
     },
     "inputWidgets": {},
     "nuid": "858bf41f-3f57-43e7-8c58-89aefdf7c451",
     "showTitle": false,
     "title": ""
    }
   },
   "outputs": [
    {
     "output_type": "stream",
     "name": "stdout",
     "output_type": "stream",
     "text": [
      "+-----------------+---+-----------------+\n|           Player|Pos|          Average|\n+-----------------+---+-----------------+\n|     James Harden| PG|             10.7|\n|Tyrese Haliburton| PG|             10.4|\n|       Trae Young| PG|             10.2|\n|     Nikola Jokić|  C|              9.8|\n|Spencer Dinwiddie| PG|              9.1|\n|       Chris Paul| PG|              8.9|\n|      LaMelo Ball| PG|              8.4|\n|      Skylar Mays| PG|              8.3|\n|        Ja Morant| PG|              8.1|\n|      Luka Dončić| PG|              8.0|\n|   Darius Garland| PG|              7.8|\n|Russell Westbrook| PG|7.533333333333334|\n|     Jrue Holiday| PG|              7.4|\n| Domantas Sabonis|  C|              7.3|\n|   Damian Lillard| PG|              7.3|\n|    Fred VanVleet| PG|              7.2|\n|     RaiQuan Gray| PF|              7.0|\n|   Draymond Green| PF|              6.8|\n|     LeBron James| PF|              6.8|\n|        Tre Jones| PG|              6.6|\n+-----------------+---+-----------------+\nonly showing top 20 rows\n\n"
     ]
    }
   ],
   "source": [
    "promedio_0 = estadisticas.select(\"Player\", \"Pos\", \"AST\")\n",
    "promedio = promedio_0.groupBy(\"Player\", \"Pos\").agg(\n",
    "    avg(col(\"AST\")).alias(\"Average\")\n",
    ").orderBy(col(\"Average\").desc()).show()"
   ]
  },
  {
   "cell_type": "markdown",
   "metadata": {
    "application/vnd.databricks.v1+cell": {
     "cellMetadata": {
      "byteLimit": 2048000,
      "rowLimit": 10000
     },
     "inputWidgets": {},
     "nuid": "ca0a42af-ef2f-46dd-9cb8-ca3be1371edd",
     "showTitle": false,
     "title": ""
    }
   },
   "source": [
    "##Mejor jugador relación asistencias y perdidas de balón"
   ]
  },
  {
   "cell_type": "code",
   "execution_count": 0,
   "metadata": {
    "application/vnd.databricks.v1+cell": {
     "cellMetadata": {
      "byteLimit": 2048000,
      "rowLimit": 10000
     },
     "inputWidgets": {},
     "nuid": "3113f46d-2aa7-4fc4-9842-486cb1953f64",
     "showTitle": false,
     "title": ""
    }
   },
   "outputs": [
    {
     "output_type": "stream",
     "name": "stdout",
     "output_type": "stream",
     "text": [
      "+------------------+-----------------+\n|Player            |Rel_AST_TOV      |\n+------------------+-----------------+\n|Dru Smith         |8.5              |\n|Dru Smith         |7.5              |\n|Terrence Ross     |6.666666666666667|\n|Jeff Dowtin       |5.999999999999999|\n|John Butler       |5.999999999999999|\n|Tyus Jones        |5.777777777777778|\n|Will Barton       |5.5              |\n|Cody Martin       |5.333333333333334|\n|Monte Morris      |5.3              |\n|Kemba Walker      |5.25             |\n|Shaquille Harrison|5.0              |\n|Al Horford        |5.0              |\n|Kevon Looney      |5.0              |\n|Kobi Simmons      |5.0              |\n|Skylar Mays       |4.882352941176471|\n|Chris Paul        |4.68421052631579 |\n|Mike Conley       |4.529411764705882|\n|Mike Conley       |4.466666666666667|\n|Devonte' Graham   |4.4              |\n|Patrick Beverley  |4.375            |\n+------------------+-----------------+\nonly showing top 20 rows\n\n"
     ]
    }
   ],
   "source": [
    "estadisticas = estadisticas.withColumn(\"Rel_AST_TOV\", col(\"AST\")/col(\"TOV\"))\n",
    "best_player_0 = estadisticas.select(\"Player\", \"Rel_AST_TOV\")\n",
    "best_player = best_player_0.orderBy(col(\"Rel_AST_TOV\").desc()).show(truncate = False)"
   ]
  },
  {
   "cell_type": "markdown",
   "metadata": {
    "application/vnd.databricks.v1+cell": {
     "cellMetadata": {
      "byteLimit": 2048000,
      "rowLimit": 10000
     },
     "inputWidgets": {},
     "nuid": "120835b5-69b4-4d3f-a621-544afb4b8447",
     "showTitle": false,
     "title": ""
    }
   },
   "source": [
    "##Promedio rebotes ofensivos por equipos"
   ]
  },
  {
   "cell_type": "code",
   "execution_count": 0,
   "metadata": {
    "application/vnd.databricks.v1+cell": {
     "cellMetadata": {
      "byteLimit": 2048000,
      "rowLimit": 10000
     },
     "inputWidgets": {},
     "nuid": "c639774e-1642-4db6-aa02-4a53e4f7bb11",
     "showTitle": false,
     "title": ""
    }
   },
   "outputs": [
    {
     "output_type": "stream",
     "name": "stdout",
     "output_type": "stream",
     "text": [
      "+---+------------------+\n|Tm |Reb_ofen          |\n+---+------------------+\n|MEM|1.0882352941176467|\n|DET|1.0350000000000001|\n|SAS|1.0304347826086957|\n|OKC|1.0166666666666666|\n|HOU|0.9666666666666668|\n|TOR|0.958823529411765 |\n|MIA|0.9421052631578947|\n|BOS|0.9352941176470588|\n|NOP|0.9312499999999999|\n|ORL|0.9199999999999999|\n|GSW|0.9055555555555556|\n|ATL|0.9055555555555554|\n|UTA|0.9052631578947368|\n|PHO|0.8947368421052634|\n|NYK|0.8785714285714288|\n|PHI|0.8722222222222223|\n|POR|0.868181818181818 |\n|MIL|0.8666666666666668|\n|LAL|0.840909090909091 |\n|IND|0.8300000000000001|\n+---+------------------+\nonly showing top 20 rows\n\n"
     ]
    }
   ],
   "source": [
    "reb_0 = estadisticas.select(\"Tm\", \"ORB\")\n",
    "reb_ofen = reb_0.groupBy(\"Tm\").agg(\n",
    "    avg(col(\"ORB\")).alias(\"Reb_ofen\")\n",
    ").orderBy(col(\"Reb_ofen\").desc()).show(truncate = False)"
   ]
  },
  {
   "cell_type": "markdown",
   "metadata": {
    "application/vnd.databricks.v1+cell": {
     "cellMetadata": {
      "byteLimit": 2048000,
      "rowLimit": 10000
     },
     "inputWidgets": {},
     "nuid": "0a9efb1d-0c57-4bef-ae31-4fbf417e05be",
     "showTitle": false,
     "title": ""
    }
   },
   "source": [
    "##Jugador con el mayor número de triples"
   ]
  },
  {
   "cell_type": "code",
   "execution_count": 0,
   "metadata": {
    "application/vnd.databricks.v1+cell": {
     "cellMetadata": {
      "byteLimit": 2048000,
      "rowLimit": 10000
     },
     "inputWidgets": {},
     "nuid": "de8dd711-c176-4928-aa4f-933395a7edd0",
     "showTitle": false,
     "title": ""
    }
   },
   "outputs": [
    {
     "output_type": "stream",
     "name": "stdout",
     "output_type": "stream",
     "text": [
      "+------------------+------+\n|Player            |Max_3P|\n+------------------+------+\n|Stephen Curry     |4.9   |\n|Klay Thompson     |4.4   |\n|Damian Lillard    |4.2   |\n|Louis King        |4.0   |\n|LaMelo Ball       |4.0   |\n|Buddy Hield       |3.6   |\n|Donovan Mitchell  |3.6   |\n|Anfernee Simons   |3.4   |\n|Kyrie Irving      |3.3   |\n|Jayson Tatum      |3.2   |\n|Luke Kennard      |3.1   |\n|Malik Beasley     |3.1   |\n|Tyler Herro       |3.0   |\n|Fred VanVleet     |3.0   |\n|Tim Hardaway Jr.  |3.0   |\n|Michael Porter Jr.|3.0   |\n|Lauri Markkanen   |3.0   |\n|Desmond Bane      |2.9   |\n|Tyrese Haliburton |2.9   |\n|Luka Dončić       |2.8   |\n+------------------+------+\nonly showing top 20 rows\n\n"
     ]
    }
   ],
   "source": [
    "three_points_0 = estadisticas.select(\"Player\", \"3P\")\n",
    "three_points = three_points_0.groupBy(\"Player\").agg(\n",
    "    max(col(\"3P\")).alias(\"Max_3P\")\n",
    ").orderBy(col(\"Max_3P\").desc()).show(truncate = False)"
   ]
  },
  {
   "cell_type": "markdown",
   "metadata": {
    "application/vnd.databricks.v1+cell": {
     "cellMetadata": {
      "byteLimit": 2048000,
      "rowLimit": 10000
     },
     "inputWidgets": {},
     "nuid": "5263d608-3a5b-475a-af96-79a775e36d78",
     "showTitle": false,
     "title": ""
    }
   },
   "source": [
    "##Tiros de campo efectivos por jugador"
   ]
  },
  {
   "cell_type": "code",
   "execution_count": 0,
   "metadata": {
    "application/vnd.databricks.v1+cell": {
     "cellMetadata": {
      "byteLimit": 2048000,
      "rowLimit": 10000
     },
     "inputWidgets": {},
     "nuid": "734d060f-eeab-4a78-912e-44e0b2ddec4c",
     "showTitle": false,
     "title": ""
    }
   },
   "outputs": [
    {
     "output_type": "stream",
     "name": "stdout",
     "output_type": "stream",
     "text": [
      "+---+----------------+---------------+\n|Tm |Player          |Tiros_efectivos|\n+---+----------------+---------------+\n|CHI|Terry Taylor    |0.95           |\n|LAL|Davon Reed      |0.875          |\n|ORL|Jay Scrubb      |0.857          |\n|UTA|Damian Jones    |0.816          |\n|NYK|Jericho Sims    |0.776          |\n|DEN|DeAndre Jordan  |0.77           |\n|PHI|Louis King      |0.769          |\n|NYK|Svi Mykhailiuk  |0.75           |\n|BOS|Robert Williams |0.747          |\n|MEM|Luke Kennard    |0.743          |\n|DAL|Dwight Powell   |0.732          |\n|UTA|Walker Kessler  |0.721          |\n|IND|George Hill     |0.721          |\n|WAS|Jay Huff        |0.72           |\n|UTA|Jarrell Brantley|0.714          |\n|BRK|Nic Claxton     |0.705          |\n|TOT|Damian Jones    |0.698          |\n|POR|Gary Payton II  |0.695          |\n|ATL|Frank Kaminsky  |0.693          |\n|LAL|Thomas Bryant   |0.691          |\n+---+----------------+---------------+\nonly showing top 20 rows\n\n"
     ]
    }
   ],
   "source": [
    "camp_efect_0 = estadisticas.select(\"Player\", \"Tm\", \"eFG%\")\n",
    "camp_efect = camp_efect_0.groupBy(\"Tm\", \"Player\").agg(\n",
    "    max(col(\"eFG%\")).alias(\"Tiros_efectivos\")\n",
    ").orderBy(col(\"Tiros_efectivos\").desc()).show(truncate = False)"
   ]
  }
 ],
 "metadata": {
  "application/vnd.databricks.v1+notebook": {
   "dashboards": [],
   "language": "python",
   "notebookMetadata": {
    "pythonIndentUnit": 4
   },
   "notebookName": "Estadísticas Jugadores NBA",
   "widgets": {}
  }
 },
 "nbformat": 4,
 "nbformat_minor": 0
}
