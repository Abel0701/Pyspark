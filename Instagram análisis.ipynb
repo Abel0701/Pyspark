{
 "cells": [
  {
   "cell_type": "code",
   "execution_count": null,
   "metadata": {
    "application/vnd.databricks.v1+cell": {
     "cellMetadata": {
      "byteLimit": 2048000,
      "rowLimit": 10000
     },
     "inputWidgets": {},
     "nuid": "f61b1135-d701-4263-a997-f34605c170f3",
     "showTitle": false,
     "title": ""
    }
   },
   "outputs": [],
   "source": [
    "from pyspark.sql.functions import *\n",
    "from pyspark.sql import functions as F"
   ]
  },
  {
   "cell_type": "code",
   "execution_count": null,
   "metadata": {
    "application/vnd.databricks.v1+cell": {
     "cellMetadata": {
      "byteLimit": 2048000,
      "rowLimit": 10000
     },
     "inputWidgets": {},
     "nuid": "e348211b-5f74-4aa1-9ee5-f5e8e872497f",
     "showTitle": false,
     "title": ""
    }
   },
   "outputs": [
    {
     "name": "stdout",
     "output_type": "stream",
     "text": [
      "Out[2]: '    \\ndbfs:/FileStore/shared_uploads/arraz7191@gmail.com/comments.csv\\ndbfs:/FileStore/shared_uploads/arraz7191@gmail.com/follows.csv\\ndbfs:/FileStore/shared_uploads/arraz7191@gmail.com/photo_tags.csv\\ndbfs:/FileStore/shared_uploads/arraz7191@gmail.com/likes.csv\\ndbfs:/FileStore/shared_uploads/arraz7191@gmail.com/tags.csv\\ndbfs:/FileStore/shared_uploads/arraz7191@gmail.com/photos.csv\\ndbfs:/FileStore/shared_uploads/arraz7191@gmail.com/users.csv\\n'"
     ]
    }
   ],
   "source": [
    "comentarios = spark.read.format(\"csv\")\\\n",
    "    .option(\"header\", \"true\")\\\n",
    "    .option(\"inferschema\", \"true\")\\\n",
    "    .load(\"/FileStore/shared_uploads/arraz7191@gmail.com/comments.csv\")\n",
    "\n",
    "seguidores = spark.read.format(\"csv\")\\\n",
    "    .option(\"header\", \"true\")\\\n",
    "    .option(\"inferschema\", \"true\")\\\n",
    "    .load(\"/FileStore/shared_uploads/arraz7191@gmail.com/follows.csv\")\n",
    "\n",
    "tags_foto = spark.read.format(\"csv\")\\\n",
    "    .option(\"header\", \"true\")\\\n",
    "    .option(\"inferschema\", \"true\")\\\n",
    "    .load(\"/FileStore/shared_uploads/arraz7191@gmail.com/photo_tags.csv\")\n",
    "\n",
    "likes = spark.read.format(\"csv\")\\\n",
    "    .option(\"header\", \"true\")\\\n",
    "    .option(\"inferschema\", \"true\")\\\n",
    "    .load(\"/FileStore/shared_uploads/arraz7191@gmail.com/likes.csv\")\n",
    "\n",
    "tags = spark.read.format(\"csv\")\\\n",
    "    .option(\"header\", \"true\")\\\n",
    "    .option(\"inferschema\", \"true\")\\\n",
    "    .load(\"/FileStore/shared_uploads/arraz7191@gmail.com/tags.csv\")\n",
    "\n",
    "fotos = spark.read.format(\"csv\")\\\n",
    "    .option(\"header\", \"true\")\\\n",
    "    .option(\"inferschema\", \"true\")\\\n",
    "    .load(\"/FileStore/shared_uploads/arraz7191@gmail.com/photos.csv\")\n",
    "\n",
    "usuarios = spark.read.format(\"csv\")\\\n",
    "    .option(\"header\", \"true\")\\\n",
    "    .option(\"inferschema\", \"true\")\\\n",
    "    .load(\"/FileStore/shared_uploads/arraz7191@gmail.com/users.csv\")\n"
   ]
  },
  {
   "cell_type": "code",
   "execution_count": null,
   "metadata": {
    "application/vnd.databricks.v1+cell": {
     "cellMetadata": {
      "byteLimit": 2048000,
      "rowLimit": 10000
     },
     "inputWidgets": {},
     "nuid": "3a58acb8-afc0-4847-a821-e217f3c6a713",
     "showTitle": false,
     "title": ""
    }
   },
   "outputs": [
    {
     "name": "stdout",
     "output_type": "stream",
     "text": [
      "COMENTARIOS\n",
      "root\n",
      " |-- id: integer (nullable = true)\n",
      " |-- comment_text: string (nullable = true)\n",
      " |-- user_id: integer (nullable = true)\n",
      " |-- photo_id: integer (nullable = true)\n",
      " |-- created_at: timestamp (nullable = true)\n",
      "\n",
      "-------------------------\n",
      "SEGUIDORES\n",
      "root\n",
      " |-- follower_id: integer (nullable = true)\n",
      " |-- followee_id: integer (nullable = true)\n",
      " |-- created_at: timestamp (nullable = true)\n",
      "\n",
      "-------------------------\n",
      "TAGS_FOTO\n",
      "root\n",
      " |-- photo_id: integer (nullable = true)\n",
      " |-- tag_id: integer (nullable = true)\n",
      "\n",
      "-------------------------\n",
      "LIKES\n",
      "root\n",
      " |-- user_id: integer (nullable = true)\n",
      " |-- photo_id: integer (nullable = true)\n",
      " |-- created_at: timestamp (nullable = true)\n",
      "\n",
      "-------------------------\n",
      "TAGS\n",
      "root\n",
      " |-- id: integer (nullable = true)\n",
      " |-- tag_name: string (nullable = true)\n",
      " |-- created_at: timestamp (nullable = true)\n",
      "\n",
      "-------------------------\n",
      "FOTOS\n",
      "root\n",
      " |-- id: integer (nullable = true)\n",
      " |-- image_url: string (nullable = true)\n",
      " |-- user_id: integer (nullable = true)\n",
      " |-- created_dat: timestamp (nullable = true)\n",
      "\n",
      "-------------------------\n",
      "USUARIOS\n",
      "root\n",
      " |-- id: integer (nullable = true)\n",
      " |-- username: string (nullable = true)\n",
      " |-- created_at: timestamp (nullable = true)\n",
      "\n"
     ]
    }
   ],
   "source": [
    "print(\"COMENTARIOS\")\n",
    "comentarios.printSchema()\n",
    "print(\"-------------------------\")\n",
    "print(\"SEGUIDORES\")\n",
    "seguidores.printSchema()\n",
    "print(\"-------------------------\")\n",
    "print(\"TAGS_FOTO\")\n",
    "tags_foto.printSchema()\n",
    "print(\"-------------------------\")\n",
    "print(\"LIKES\")\n",
    "likes.printSchema()\n",
    "print(\"-------------------------\")\n",
    "print(\"TAGS\")\n",
    "tags.printSchema()\n",
    "print(\"-------------------------\")\n",
    "print(\"FOTOS\")\n",
    "fotos.printSchema()\n",
    "print(\"-------------------------\")\n",
    "print(\"USUARIOS\")\n",
    "usuarios.printSchema()"
   ]
  },
  {
   "cell_type": "code",
   "execution_count": null,
   "metadata": {
    "application/vnd.databricks.v1+cell": {
     "cellMetadata": {
      "byteLimit": 2048000,
      "rowLimit": 10000
     },
     "inputWidgets": {},
     "nuid": "6dd9001a-a396-45a3-8c74-ed15a372aff0",
     "showTitle": false,
     "title": ""
    }
   },
   "outputs": [],
   "source": [
    "fotos = fotos.withColumnRenamed(\"id\", \"id_foto\")"
   ]
  },
  {
   "cell_type": "markdown",
   "metadata": {
    "application/vnd.databricks.v1+cell": {
     "cellMetadata": {},
     "inputWidgets": {},
     "nuid": "11a66b83-0908-41b3-963f-03dd0ba8d4b1",
     "showTitle": false,
     "title": ""
    }
   },
   "source": [
    "##Cuenta de Instagram con más publicaciones"
   ]
  },
  {
   "cell_type": "code",
   "execution_count": null,
   "metadata": {
    "application/vnd.databricks.v1+cell": {
     "cellMetadata": {
      "byteLimit": 2048000,
      "rowLimit": 10000
     },
     "inputWidgets": {},
     "nuid": "e04ba761-6e51-45d7-b693-5ac7814524fb",
     "showTitle": false,
     "title": ""
    }
   },
   "outputs": [
    {
     "name": "stdout",
     "output_type": "stream",
     "text": [
      "+---------+-----+\n",
      "| username|count|\n",
      "+---------+-----+\n",
      "|Eveline95|   12|\n",
      "|  Clint27|   11|\n",
      "|  Cesar93|   10|\n",
      "+---------+-----+\n",
      "\n"
     ]
    }
   ],
   "source": [
    "tabla_fotos = usuarios.join(fotos, col(\"id\") == col(\"user_id\"), \"inner\")\n",
    "usuario_mas_publicaciones = tabla_fotos.groupBy(\"username\").count().orderBy(col(\"count\").desc()).limit(3).show()"
   ]
  },
  {
   "cell_type": "markdown",
   "metadata": {
    "application/vnd.databricks.v1+cell": {
     "cellMetadata": {},
     "inputWidgets": {},
     "nuid": "507d0682-29e4-45b1-a404-93df10addaad",
     "showTitle": false,
     "title": ""
    }
   },
   "source": [
    "##Cuenta de Instagram con más seguidores"
   ]
  },
  {
   "cell_type": "code",
   "execution_count": null,
   "metadata": {
    "application/vnd.databricks.v1+cell": {
     "cellMetadata": {
      "byteLimit": 2048000,
      "rowLimit": 10000
     },
     "inputWidgets": {},
     "nuid": "178ee160-7963-495d-986c-a294784c0390",
     "showTitle": false,
     "title": ""
    }
   },
   "outputs": [
    {
     "name": "stdout",
     "output_type": "stream",
     "text": [
      "+---------------------+-----+\n",
      "|username             |count|\n",
      "+---------------------+-----+\n",
      "|Aniya_Hackett        |99   |\n",
      "|Tabitha_Schamberger11|99   |\n",
      "|Andre_Purdy85        |99   |\n",
      "+---------------------+-----+\n",
      "\n"
     ]
    }
   ],
   "source": [
    "tabla_usuarios = usuarios.join(seguidores, col(\"id\") == col(\"follower_id\"), \"inner\")\n",
    "cantidad_seguidores = tabla_usuarios.groupBy(\"username\").count().orderBy(col(\"count\").desc()).limit(3).show(truncate = False)"
   ]
  },
  {
   "cell_type": "markdown",
   "metadata": {
    "application/vnd.databricks.v1+cell": {
     "cellMetadata": {},
     "inputWidgets": {},
     "nuid": "1715f35c-0058-4baf-b3d0-74152c0ebba6",
     "showTitle": false,
     "title": ""
    }
   },
   "source": [
    "##Foto de Instagram con más comentarios"
   ]
  },
  {
   "cell_type": "code",
   "execution_count": null,
   "metadata": {
    "application/vnd.databricks.v1+cell": {
     "cellMetadata": {
      "byteLimit": 2048000,
      "rowLimit": 10000
     },
     "inputWidgets": {},
     "nuid": "b214e94f-8153-4dc1-9eb7-3b4da5c87370",
     "showTitle": false,
     "title": ""
    }
   },
   "outputs": [
    {
     "name": "stdout",
     "output_type": "stream",
     "text": [
      "+-------+-----+\n",
      "|id_foto|count|\n",
      "+-------+-----+\n",
      "|     13|   39|\n",
      "|      8|   38|\n",
      "|     29|   36|\n",
      "+-------+-----+\n",
      "\n"
     ]
    }
   ],
   "source": [
    "tabla_fotos_comentarios = fotos.join(comentarios, fotos[\"id_foto\"] == comentarios[\"photo_id\"], \"inner\")\n",
    "cantidad_comentarios = tabla_fotos_comentarios.groupBy(\"id_foto\").count().orderBy(col(\"count\").desc()).limit(3).show()"
   ]
  },
  {
   "cell_type": "markdown",
   "metadata": {
    "application/vnd.databricks.v1+cell": {
     "cellMetadata": {},
     "inputWidgets": {},
     "nuid": "be333a34-abbc-4a98-820a-13ac5042e3ab",
     "showTitle": false,
     "title": ""
    }
   },
   "source": [
    "##Fotos con más tags"
   ]
  },
  {
   "cell_type": "code",
   "execution_count": null,
   "metadata": {
    "application/vnd.databricks.v1+cell": {
     "cellMetadata": {
      "byteLimit": 2048000,
      "rowLimit": 10000
     },
     "inputWidgets": {},
     "nuid": "187f433f-29fc-40c8-9bc2-4d297ad01641",
     "showTitle": false,
     "title": ""
    }
   },
   "outputs": [
    {
     "name": "stdout",
     "output_type": "stream",
     "text": [
      "+--------+-------------+\n",
      "|photo_id|cantidad_tags|\n",
      "+--------+-------------+\n",
      "|     230|            5|\n",
      "|     155|            5|\n",
      "|      26|            5|\n",
      "|     232|            5|\n",
      "|     132|            5|\n",
      "|     185|            5|\n",
      "|       1|            5|\n",
      "|      94|            5|\n",
      "|      57|            5|\n",
      "|     227|            5|\n",
      "|     238|            5|\n",
      "|     136|            5|\n",
      "|     171|            5|\n",
      "|     219|            5|\n",
      "|      95|            5|\n",
      "|      32|            5|\n",
      "|     145|            5|\n",
      "|     201|            5|\n",
      "|     202|            4|\n",
      "|     220|            4|\n",
      "+--------+-------------+\n",
      "only showing top 20 rows\n",
      "\n"
     ]
    }
   ],
   "source": [
    "tabla_tags = tags_foto.join(tags, tags_foto[\"tag_id\"] == tags[\"id\"], \"inner\")\n",
    "tabla_tags.groupBy(\"photo_id\").agg(\n",
    "    F.count(\"tag_id\").alias(\"cantidad_tags\")\n",
    ").orderBy(F.desc(\"cantidad_tags\")).show()"
   ]
  }
 ],
 "metadata": {
  "application/vnd.databricks.v1+notebook": {
   "dashboards": [],
   "language": "python",
   "notebookMetadata": {
    "pythonIndentUnit": 4
   },
   "notebookName": "Instagram análisis",
   "widgets": {}
  },
  "language_info": {
   "name": "python"
  }
 },
 "nbformat": 4,
 "nbformat_minor": 0
}
